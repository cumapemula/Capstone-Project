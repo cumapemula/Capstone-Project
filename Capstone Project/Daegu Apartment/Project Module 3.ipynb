{
 "cells": [
  {
   "cell_type": "markdown",
   "id": "47db15b7",
   "metadata": {},
   "source": [
    "### Daegu Apartment"
   ]
  },
  {
   "cell_type": "markdown",
   "id": "c3abf6d0",
   "metadata": {},
   "source": [
    "[Sumber Data Daegu Apartment](https://drive.google.com/file/d/1MPDotXZNmiq6geRi8BkGd-fjttzoyTxW/view?usp=sharing)\n",
    "\n",
    "### Contents\n",
    "\n",
    "1. Business Problem Understanding\n",
    "2. Data Understanding\n",
    "3. Data Preprocessing\n",
    "4. Modeling\n",
    "5. Conclusion\n",
    "6. Recommendation\n",
    "\n",
    "***"
   ]
  },
  {
   "cell_type": "markdown",
   "id": "75af4b76",
   "metadata": {},
   "source": [
    "### Business Problem Understanding"
   ]
  },
  {
   "cell_type": "markdown",
   "id": "2ecfa7ba",
   "metadata": {},
   "source": [
    "**Context**\n",
    "\n"
   ]
  },
  {
   "cell_type": "markdown",
   "id": "ba22eec4",
   "metadata": {},
   "source": [
    "Traveloki adalah sebuah aplikasi penyedia jasa layanan servis sewa akomodasi. Traveloki berperan sebagai pihak ketiga antara tuan rumah dan calon penyewa seperti marketplace pada umumnya. Traveloki didirikan pada tahun 2013 dan wilayah operasinya sudah tersebar di 137+ negara. Korea Selatan menjadi salah satu dari sekian negara yang turut andil dalam pertumbuhan bisnis Traveloki, dimana banyak turis yang berkunjung ke negara tersebut dan kota Daegu menjadi tempat yang paling banyak dikunjungi di Korea Selatan. Tentunya turis membutuhkan penginapan di kota tersebut dan diharapkan Traveloki mampu membantu para turis untuk menemukan penginapan sesuai keinginannya.\n",
    "\n",
    "Untuk menjadi tuan rumah Traveloki, caranya sangat mudah, hanya dengan membuat akun pada aplikasi Traveloki dan memilih opsi sebagai 'host'. Lalu, tuan rumah bisa mulai memasukkan daftar propertinya beserta harga sewanya. Akan tetapi, model bisnis Traveloki membebaskan tuan rumah untuk menentukan harga sewa propertinya, yang mana hal ini tentu saja cukup menyulitkan bagi tuan rumah. Jika harganya terlalu mahal dibanding properti-properti lain dengan fitur sejenis di sekitar areanya, tentu akan sedikit yang akan menyewa propertinya. Sebaliknya, jika terlalu murah, tentu tuan rumah tidak akan mendapatkan profit yang sepadan. Banyak faktor yang memengaruhi nilai dari suatu properti. Tentunya hal tersebut perlu dipahami juga oleh sang tuan rumah karena berhubungan dengan profit yang bisa didapatkan."
   ]
  },
  {
   "cell_type": "markdown",
   "id": "ca915f2a",
   "metadata": {},
   "source": [
    "**Problem Statement**"
   ]
  },
  {
   "cell_type": "markdown",
   "id": "cc6a7bfd",
   "metadata": {},
   "source": [
    "Salah satu tantangan terbesar bagi perusahaan seperti Traveloki adalah pemecahan masalah untuk dapat memiliki model bisnis yang menguntungkan secara finansial bagi pemilik properti, serta dapat memberikan pengalaman positif terhadap penyewa akomodasi.\n",
    "\n",
    "Mengingat Traveloki menawarkan kebebasan penuh kepada tuan rumah untuk menentukan harga properti mereka, dengan hanya memberikan petunjuk minimal yang memungkinkan tuan rumah membandingkan tempat serupa di lingkungan mereka untuk mendapatkan harga yang kompetitif. Tuan rumah pun dapat memasukkan harga yang lebih tinggi untuk fasilitas tambahan apa pun yang mereka anggap perlu. Dengan bertambahnya jumlah tuan rumah yang menggunakan Traveloki, menentukan harga yang tepat untuk dapat tetap kompetitif di lingkungan sekitar tuan rumah sangatlah penting."
   ]
  },
  {
   "cell_type": "markdown",
   "id": "5f131450",
   "metadata": {},
   "source": [
    "**Goals**"
   ]
  },
  {
   "cell_type": "markdown",
   "id": "09ee0d26",
   "metadata": {},
   "source": [
    "Berdasarkan permasalahan tersebut, Traveloki tentu perlu memiliki tool yang dapat memprediksi serta membantu klien mereka (dalam hal ini tuan rumah) untuk dapat menentukan harga sewa properti yang tepat untuk tiap properti yang baru akan mereka sewakan. Adanya perbedaan pada berbagai fitur yang terdapat pada suatu properti, seperti luas bangunan, jumlah fasilitas,dll dapat menambah keakuratan prediksi harga sewa, yang mana dapat mendatangkan profit bagi tuan rumah, dan juga tentunya masih terjangkau bagi penyewa."
   ]
  },
  {
   "cell_type": "markdown",
   "id": "bb4c9103",
   "metadata": {},
   "source": [
    "**Analytic Approach**"
   ]
  },
  {
   "cell_type": "markdown",
   "id": "0d10c3c3",
   "metadata": {},
   "source": [
    "Jadi, yang perlu kita lakukan adalah menganalisis data untuk dapat menemukan pola dari fitur-fitur yang ada, yang membedakan satu properti dengan yang lainnya. Selanjutnya, kita akan membangun suatu model regresi yang akan membantu perusahaan untuk dapat menyediakan tool prediksi harga sewa akomodasi yang baru masuk dalam daftar Traveloki, yang mana akan berguna untuk tuan rumah (host) dalam menentukan harga sewa listing-nya."
   ]
  },
  {
   "cell_type": "markdown",
   "id": "c22d742a",
   "metadata": {},
   "source": [
    "**Metrics Evaluation**"
   ]
  },
  {
   "cell_type": "markdown",
   "id": "810a3f8d",
   "metadata": {},
   "source": [
    "Evaluasi metrik yang akan digunakan adalah RMSE, MAE, dan MAPE, di mana RMSE adalah nilai rataan akar kuadrat dari error, MAE adalah rataan nilai absolut dari error, sedangkan MAPE adalah rataan persentase error yang dihasilkan oleh model regresi. Semakin kecil nilai RMSE, MAE, dan MAPE yang dihasilkan, berarti model semakin akurat dalam memprediksi harga sewa sesuai dengan limitasi fitur yang digunakan.\n",
    "\n",
    "Selain itu, kita juga bisa menggunakan nilai R-squared atau adj. R-squared jika model yang nanti terpilih sebagai final model adalah model linear. Nilai R-squared digunakan untuk mengetahui seberapa baik model dapat merepresentasikan varians keseluruhan data. Semakin mendekati 1, maka semakin fit pula modelnya terhadap data observasi. Namun, metrik ini tidak valid untuk model non-linear."
   ]
  },
  {
   "cell_type": "markdown",
   "id": "493042c5",
   "metadata": {},
   "source": [
    "### Data Understanding"
   ]
  },
  {
   "cell_type": "markdown",
   "id": "bbf6dd6f",
   "metadata": {},
   "source": [
    "- Dataset merupakan data spesifikasi apartment di kota Daegu.\n",
    "- Setiap baris data merepresentasikan informasi terkait properti.\n",
    "\n",
    "**Attributes Information**\n",
    "\n",
    "| **Attribute** | **Data Type** | **Description** |\n",
    "| --- | --- | --- |\n",
    "| HallwayType | Object | Type of Hallway |\n",
    "| TimeToSubway | Object | Time taken from apartment to subway station |\n",
    "| SubwayStation | Object | The name of the nearest  subway station from the apartment |\n",
    "| N_FacilitiesNearBy(ETC) | Float | Number of other nearby facilities |\n",
    "| N_FacilitiesNearBy(PublicOffice) | Float | Number of nearest public office facilities |\n",
    "| N_SchoolNearBy(University) | Float | Number of nearest universities |\n",
    "| N_Parkinglot(Basement) | Float | Maximum number of vehicles in the parking lot |\n",
    "| YearBuilt | Integer | Year of establishment of the apartment |\n",
    "| N_FacilitiesInApt | Integer | Number of facilities in the apartment |\n",
    "| Size(sqf) | Integer | Building area in square foot |\n",
    "| SalePrice | Integer | Price in won |\n",
    "\n",
    "<br>"
   ]
  },
  {
   "cell_type": "code",
   "execution_count": 212,
   "id": "adfd2f9a",
   "metadata": {},
   "outputs": [],
   "source": [
    "# Import Library\n",
    "import pandas as pd\n",
    "import numpy as np\n",
    "import matplotlib.pyplot as plt\n",
    "import seaborn as sns\n",
    "\n",
    "import warnings\n",
    "warnings.filterwarnings('ignore')"
   ]
  },
  {
   "cell_type": "code",
   "execution_count": 213,
   "id": "44eecac6",
   "metadata": {},
   "outputs": [
    {
     "data": {
      "text/html": [
       "<div>\n",
       "<style scoped>\n",
       "    .dataframe tbody tr th:only-of-type {\n",
       "        vertical-align: middle;\n",
       "    }\n",
       "\n",
       "    .dataframe tbody tr th {\n",
       "        vertical-align: top;\n",
       "    }\n",
       "\n",
       "    .dataframe thead th {\n",
       "        text-align: right;\n",
       "    }\n",
       "</style>\n",
       "<table border=\"1\" class=\"dataframe\">\n",
       "  <thead>\n",
       "    <tr style=\"text-align: right;\">\n",
       "      <th></th>\n",
       "      <th>HallwayType</th>\n",
       "      <th>TimeToSubway</th>\n",
       "      <th>SubwayStation</th>\n",
       "      <th>N_FacilitiesNearBy(ETC)</th>\n",
       "      <th>N_FacilitiesNearBy(PublicOffice)</th>\n",
       "      <th>N_SchoolNearBy(University)</th>\n",
       "      <th>N_Parkinglot(Basement)</th>\n",
       "      <th>YearBuilt</th>\n",
       "      <th>N_FacilitiesInApt</th>\n",
       "      <th>Size(sqf)</th>\n",
       "      <th>SalePrice</th>\n",
       "    </tr>\n",
       "  </thead>\n",
       "  <tbody>\n",
       "    <tr>\n",
       "      <th>0</th>\n",
       "      <td>terraced</td>\n",
       "      <td>0-5min</td>\n",
       "      <td>Kyungbuk_uni_hospital</td>\n",
       "      <td>0.0</td>\n",
       "      <td>3.0</td>\n",
       "      <td>2.0</td>\n",
       "      <td>1270.0</td>\n",
       "      <td>2007</td>\n",
       "      <td>10</td>\n",
       "      <td>1387</td>\n",
       "      <td>346017</td>\n",
       "    </tr>\n",
       "    <tr>\n",
       "      <th>1</th>\n",
       "      <td>terraced</td>\n",
       "      <td>10min~15min</td>\n",
       "      <td>Kyungbuk_uni_hospital</td>\n",
       "      <td>1.0</td>\n",
       "      <td>5.0</td>\n",
       "      <td>1.0</td>\n",
       "      <td>0.0</td>\n",
       "      <td>1986</td>\n",
       "      <td>4</td>\n",
       "      <td>914</td>\n",
       "      <td>150442</td>\n",
       "    </tr>\n",
       "    <tr>\n",
       "      <th>2</th>\n",
       "      <td>mixed</td>\n",
       "      <td>15min~20min</td>\n",
       "      <td>Chil-sung-market</td>\n",
       "      <td>1.0</td>\n",
       "      <td>7.0</td>\n",
       "      <td>3.0</td>\n",
       "      <td>56.0</td>\n",
       "      <td>1997</td>\n",
       "      <td>5</td>\n",
       "      <td>558</td>\n",
       "      <td>61946</td>\n",
       "    </tr>\n",
       "    <tr>\n",
       "      <th>3</th>\n",
       "      <td>mixed</td>\n",
       "      <td>5min~10min</td>\n",
       "      <td>Bangoge</td>\n",
       "      <td>5.0</td>\n",
       "      <td>5.0</td>\n",
       "      <td>4.0</td>\n",
       "      <td>798.0</td>\n",
       "      <td>2005</td>\n",
       "      <td>7</td>\n",
       "      <td>914</td>\n",
       "      <td>165486</td>\n",
       "    </tr>\n",
       "    <tr>\n",
       "      <th>4</th>\n",
       "      <td>terraced</td>\n",
       "      <td>0-5min</td>\n",
       "      <td>Sin-nam</td>\n",
       "      <td>0.0</td>\n",
       "      <td>1.0</td>\n",
       "      <td>2.0</td>\n",
       "      <td>536.0</td>\n",
       "      <td>2006</td>\n",
       "      <td>5</td>\n",
       "      <td>1743</td>\n",
       "      <td>311504</td>\n",
       "    </tr>\n",
       "  </tbody>\n",
       "</table>\n",
       "</div>"
      ],
      "text/plain": [
       "  HallwayType TimeToSubway          SubwayStation  N_FacilitiesNearBy(ETC)  \\\n",
       "0    terraced       0-5min  Kyungbuk_uni_hospital                      0.0   \n",
       "1    terraced  10min~15min  Kyungbuk_uni_hospital                      1.0   \n",
       "2       mixed  15min~20min       Chil-sung-market                      1.0   \n",
       "3       mixed   5min~10min                Bangoge                      5.0   \n",
       "4    terraced       0-5min                Sin-nam                      0.0   \n",
       "\n",
       "   N_FacilitiesNearBy(PublicOffice)  N_SchoolNearBy(University)  \\\n",
       "0                               3.0                         2.0   \n",
       "1                               5.0                         1.0   \n",
       "2                               7.0                         3.0   \n",
       "3                               5.0                         4.0   \n",
       "4                               1.0                         2.0   \n",
       "\n",
       "   N_Parkinglot(Basement)  YearBuilt  N_FacilitiesInApt  Size(sqf)  SalePrice  \n",
       "0                  1270.0       2007                 10       1387     346017  \n",
       "1                     0.0       1986                  4        914     150442  \n",
       "2                    56.0       1997                  5        558      61946  \n",
       "3                   798.0       2005                  7        914     165486  \n",
       "4                   536.0       2006                  5       1743     311504  "
      ]
     },
     "execution_count": 213,
     "metadata": {},
     "output_type": "execute_result"
    }
   ],
   "source": [
    "# Load Datasets\n",
    "data = pd.read_csv('data_daegu_apartment.csv')\n",
    "data.head()"
   ]
  },
  {
   "cell_type": "markdown",
   "id": "4558d64d",
   "metadata": {},
   "source": [
    "**Exploratory Data Analysis**"
   ]
  },
  {
   "cell_type": "markdown",
   "id": "1e6bb151",
   "metadata": {},
   "source": [
    "**General Info**"
   ]
  },
  {
   "cell_type": "code",
   "execution_count": 214,
   "id": "c85bbe2b",
   "metadata": {},
   "outputs": [
    {
     "name": "stdout",
     "output_type": "stream",
     "text": [
      "<class 'pandas.core.frame.DataFrame'>\n",
      "RangeIndex: 4123 entries, 0 to 4122\n",
      "Data columns (total 11 columns):\n",
      " #   Column                            Non-Null Count  Dtype  \n",
      "---  ------                            --------------  -----  \n",
      " 0   HallwayType                       4123 non-null   object \n",
      " 1   TimeToSubway                      4123 non-null   object \n",
      " 2   SubwayStation                     4123 non-null   object \n",
      " 3   N_FacilitiesNearBy(ETC)           4123 non-null   float64\n",
      " 4   N_FacilitiesNearBy(PublicOffice)  4123 non-null   float64\n",
      " 5   N_SchoolNearBy(University)        4123 non-null   float64\n",
      " 6   N_Parkinglot(Basement)            4123 non-null   float64\n",
      " 7   YearBuilt                         4123 non-null   int64  \n",
      " 8   N_FacilitiesInApt                 4123 non-null   int64  \n",
      " 9   Size(sqf)                         4123 non-null   int64  \n",
      " 10  SalePrice                         4123 non-null   int64  \n",
      "dtypes: float64(4), int64(4), object(3)\n",
      "memory usage: 354.4+ KB\n"
     ]
    }
   ],
   "source": [
    "data.info()"
   ]
  },
  {
   "cell_type": "markdown",
   "id": "e1246277",
   "metadata": {},
   "source": [
    "**Unique Values of Categorical Variable**"
   ]
  },
  {
   "cell_type": "code",
   "execution_count": 215,
   "id": "138faddf",
   "metadata": {
    "scrolled": true
   },
   "outputs": [
    {
     "data": {
      "text/plain": [
       "terraced    2528\n",
       "mixed       1131\n",
       "corridor     464\n",
       "Name: HallwayType, dtype: int64"
      ]
     },
     "execution_count": 215,
     "metadata": {},
     "output_type": "execute_result"
    }
   ],
   "source": [
    "data['HallwayType'].value_counts()"
   ]
  },
  {
   "cell_type": "code",
   "execution_count": 216,
   "id": "67e32c72",
   "metadata": {},
   "outputs": [
    {
     "data": {
      "text/plain": [
       "Kyungbuk_uni_hospital    1152\n",
       "Myung-duk                1044\n",
       "Banwoldang                529\n",
       "Bangoge                   502\n",
       "Sin-nam                   467\n",
       "no_subway_nearby          290\n",
       "Chil-sung-market           74\n",
       "Daegu                      65\n",
       "Name: SubwayStation, dtype: int64"
      ]
     },
     "execution_count": 216,
     "metadata": {},
     "output_type": "execute_result"
    }
   ],
   "source": [
    "data['SubwayStation'].value_counts()"
   ]
  },
  {
   "cell_type": "code",
   "execution_count": 217,
   "id": "5f01b771",
   "metadata": {},
   "outputs": [
    {
     "data": {
      "text/plain": [
       "0-5min                1953\n",
       "5min~10min             787\n",
       "15min~20min            629\n",
       "10min~15min            583\n",
       "no_bus_stop_nearby     171\n",
       "Name: TimeToSubway, dtype: int64"
      ]
     },
     "execution_count": 217,
     "metadata": {},
     "output_type": "execute_result"
    }
   ],
   "source": [
    "data['TimeToSubway'].value_counts()"
   ]
  },
  {
   "cell_type": "markdown",
   "id": "60f14b95",
   "metadata": {},
   "source": [
    "**Distribution Plot of Daegu Apartment Price**"
   ]
  },
  {
   "cell_type": "code",
   "execution_count": 218,
   "id": "97f8b8ea",
   "metadata": {},
   "outputs": [
    {
     "data": {
      "image/png": "[encoded data removed]",
      "text/plain": [
       "<Figure size 720x720 with 1 Axes>"
      ]
     },
     "metadata": {
      "needs_background": "light"
     },
     "output_type": "display_data"
    }
   ],
   "source": [
    "# Plot distribusi fitur 'SalePrice'\n",
    "plt.figure(figsize = (10,10))\n",
    "sns.distplot(data['SalePrice'])\n",
    "plt.title('Price Distribution Plot', size = 20, weight = 'bold')\n",
    "plt.show()"
   ]
  },
  {
   "cell_type": "markdown",
   "id": "52223df2",
   "metadata": {},
   "source": [
    "Berdasarkan plot distribusi harga apartemen diatas, terlihat bahwa terdapat right-skewed distribution. Artinya, terdapat skewness positif pada fitur SalePrice."
   ]
  },
  {
   "cell_type": "code",
   "execution_count": 219,
   "id": "96afb0a4",
   "metadata": {
    "scrolled": true
   },
   "outputs": [
    {
     "data": {
      "text/html": [
       "<div>\n",
       "<style scoped>\n",
       "    .dataframe tbody tr th:only-of-type {\n",
       "        vertical-align: middle;\n",
       "    }\n",
       "\n",
       "    .dataframe tbody tr th {\n",
       "        vertical-align: top;\n",
       "    }\n",
       "\n",
       "    .dataframe thead th {\n",
       "        text-align: right;\n",
       "    }\n",
       "</style>\n",
       "<table border=\"1\" class=\"dataframe\">\n",
       "  <thead>\n",
       "    <tr style=\"text-align: right;\">\n",
       "      <th></th>\n",
       "      <th>SalePrice</th>\n",
       "    </tr>\n",
       "    <tr>\n",
       "      <th>HallwayType</th>\n",
       "      <th></th>\n",
       "    </tr>\n",
       "  </thead>\n",
       "  <tbody>\n",
       "    <tr>\n",
       "      <th>terraced</th>\n",
       "      <td>264601.0</td>\n",
       "    </tr>\n",
       "    <tr>\n",
       "      <th>mixed</th>\n",
       "      <td>153539.0</td>\n",
       "    </tr>\n",
       "    <tr>\n",
       "      <th>corridor</th>\n",
       "      <td>74557.0</td>\n",
       "    </tr>\n",
       "  </tbody>\n",
       "</table>\n",
       "</div>"
      ],
      "text/plain": [
       "             SalePrice\n",
       "HallwayType           \n",
       "terraced      264601.0\n",
       "mixed         153539.0\n",
       "corridor       74557.0"
      ]
     },
     "execution_count": 219,
     "metadata": {},
     "output_type": "execute_result"
    }
   ],
   "source": [
    "# Cek median SalePrice pada tiap Hallway Type\n",
    "data_median_price = data.groupby(by = ['HallwayType']).agg({'SalePrice':'median'}).reset_index()\n",
    "data_median_price = data_median_price.set_index('HallwayType')\n",
    "data_median_price = data_median_price.sort_values('SalePrice', ascending=False)\n",
    "data_median_price.head()"
   ]
  },
  {
   "cell_type": "markdown",
   "id": "c2b66c1a",
   "metadata": {},
   "source": [
    "### Data Preprocessing"
   ]
  },
  {
   "cell_type": "markdown",
   "id": "388a54aa",
   "metadata": {},
   "source": [
    "Pada tahap ini, kita akan melakukan cleaning pada data yang nantinya data yang sudah dibersihkan akan kita gunakan untuk proses analisis selanjutnya. Beberapa hal yang perlu dilakukan adalah:\n",
    "- Drop fitur yang tidak memiliki relevansi terhadap permasalahan yang sedang dihadapi.\n",
    "- Melakukan treatment terhadap missing value jika ada. Bisa dengan cara men-drop fiturnya jika memang tidak dibutuhkan atau bisa juga dengan mengimputasi dengan nilai yang paling masuk akal berdasarkan kasusnya."
   ]
  },
  {
   "cell_type": "markdown",
   "id": "b57eb93f",
   "metadata": {},
   "source": [
    "Untuk proses data preprocessing dan feature engineering, kita akan menggunakan dataframe hasil duplikasi dari dataframe yang sebelumnya digunakan."
   ]
  },
  {
   "cell_type": "code",
   "execution_count": 220,
   "id": "c62fc549",
   "metadata": {},
   "outputs": [],
   "source": [
    "# Membuat duplikasi dataframe\n",
    "df_model = data.copy()"
   ]
  },
  {
   "cell_type": "code",
   "execution_count": 221,
   "id": "40e1102b",
   "metadata": {},
   "outputs": [
    {
     "data": {
      "text/html": [
       "<div>\n",
       "<style scoped>\n",
       "    .dataframe tbody tr th:only-of-type {\n",
       "        vertical-align: middle;\n",
       "    }\n",
       "\n",
       "    .dataframe tbody tr th {\n",
       "        vertical-align: top;\n",
       "    }\n",
       "\n",
       "    .dataframe thead th {\n",
       "        text-align: right;\n",
       "    }\n",
       "</style>\n",
       "<table border=\"1\" class=\"dataframe\">\n",
       "  <thead>\n",
       "    <tr style=\"text-align: right;\">\n",
       "      <th></th>\n",
       "      <th>dataFeatures</th>\n",
       "      <th>dataType</th>\n",
       "      <th>null</th>\n",
       "      <th>nullPct</th>\n",
       "      <th>unique</th>\n",
       "      <th>uniqueSample</th>\n",
       "    </tr>\n",
       "  </thead>\n",
       "  <tbody>\n",
       "    <tr>\n",
       "      <th>0</th>\n",
       "      <td>HallwayType</td>\n",
       "      <td>object</td>\n",
       "      <td>0</td>\n",
       "      <td>0.0</td>\n",
       "      <td>3</td>\n",
       "      <td>[corridor, terraced]</td>\n",
       "    </tr>\n",
       "    <tr>\n",
       "      <th>1</th>\n",
       "      <td>TimeToSubway</td>\n",
       "      <td>object</td>\n",
       "      <td>0</td>\n",
       "      <td>0.0</td>\n",
       "      <td>5</td>\n",
       "      <td>[5min~10min, no_bus_stop_nearby]</td>\n",
       "    </tr>\n",
       "    <tr>\n",
       "      <th>2</th>\n",
       "      <td>SubwayStation</td>\n",
       "      <td>object</td>\n",
       "      <td>0</td>\n",
       "      <td>0.0</td>\n",
       "      <td>8</td>\n",
       "      <td>[Daegu, Bangoge]</td>\n",
       "    </tr>\n",
       "    <tr>\n",
       "      <th>3</th>\n",
       "      <td>N_FacilitiesNearBy(ETC)</td>\n",
       "      <td>float64</td>\n",
       "      <td>0</td>\n",
       "      <td>0.0</td>\n",
       "      <td>4</td>\n",
       "      <td>[5.0, 2.0]</td>\n",
       "    </tr>\n",
       "    <tr>\n",
       "      <th>4</th>\n",
       "      <td>N_FacilitiesNearBy(PublicOffice)</td>\n",
       "      <td>float64</td>\n",
       "      <td>0</td>\n",
       "      <td>0.0</td>\n",
       "      <td>8</td>\n",
       "      <td>[1.0, 5.0]</td>\n",
       "    </tr>\n",
       "    <tr>\n",
       "      <th>5</th>\n",
       "      <td>N_SchoolNearBy(University)</td>\n",
       "      <td>float64</td>\n",
       "      <td>0</td>\n",
       "      <td>0.0</td>\n",
       "      <td>6</td>\n",
       "      <td>[2.0, 4.0]</td>\n",
       "    </tr>\n",
       "    <tr>\n",
       "      <th>6</th>\n",
       "      <td>N_Parkinglot(Basement)</td>\n",
       "      <td>float64</td>\n",
       "      <td>0</td>\n",
       "      <td>0.0</td>\n",
       "      <td>20</td>\n",
       "      <td>[605.0, 108.0]</td>\n",
       "    </tr>\n",
       "    <tr>\n",
       "      <th>7</th>\n",
       "      <td>YearBuilt</td>\n",
       "      <td>int64</td>\n",
       "      <td>0</td>\n",
       "      <td>0.0</td>\n",
       "      <td>16</td>\n",
       "      <td>[2014, 2008]</td>\n",
       "    </tr>\n",
       "    <tr>\n",
       "      <th>8</th>\n",
       "      <td>N_FacilitiesInApt</td>\n",
       "      <td>int64</td>\n",
       "      <td>0</td>\n",
       "      <td>0.0</td>\n",
       "      <td>9</td>\n",
       "      <td>[7, 1]</td>\n",
       "    </tr>\n",
       "    <tr>\n",
       "      <th>9</th>\n",
       "      <td>Size(sqf)</td>\n",
       "      <td>int64</td>\n",
       "      <td>0</td>\n",
       "      <td>0.0</td>\n",
       "      <td>89</td>\n",
       "      <td>[206, 1690]</td>\n",
       "    </tr>\n",
       "    <tr>\n",
       "      <th>10</th>\n",
       "      <td>SalePrice</td>\n",
       "      <td>int64</td>\n",
       "      <td>0</td>\n",
       "      <td>0.0</td>\n",
       "      <td>838</td>\n",
       "      <td>[85398, 340707]</td>\n",
       "    </tr>\n",
       "  </tbody>\n",
       "</table>\n",
       "</div>"
      ],
      "text/plain": [
       "                        dataFeatures dataType  null  nullPct  unique  \\\n",
       "0                        HallwayType   object     0      0.0       3   \n",
       "1                       TimeToSubway   object     0      0.0       5   \n",
       "2                      SubwayStation   object     0      0.0       8   \n",
       "3            N_FacilitiesNearBy(ETC)  float64     0      0.0       4   \n",
       "4   N_FacilitiesNearBy(PublicOffice)  float64     0      0.0       8   \n",
       "5         N_SchoolNearBy(University)  float64     0      0.0       6   \n",
       "6             N_Parkinglot(Basement)  float64     0      0.0      20   \n",
       "7                          YearBuilt    int64     0      0.0      16   \n",
       "8                  N_FacilitiesInApt    int64     0      0.0       9   \n",
       "9                          Size(sqf)    int64     0      0.0      89   \n",
       "10                         SalePrice    int64     0      0.0     838   \n",
       "\n",
       "                        uniqueSample  \n",
       "0               [corridor, terraced]  \n",
       "1   [5min~10min, no_bus_stop_nearby]  \n",
       "2                   [Daegu, Bangoge]  \n",
       "3                         [5.0, 2.0]  \n",
       "4                         [1.0, 5.0]  \n",
       "5                         [2.0, 4.0]  \n",
       "6                     [605.0, 108.0]  \n",
       "7                       [2014, 2008]  \n",
       "8                             [7, 1]  \n",
       "9                        [206, 1690]  \n",
       "10                   [85398, 340707]  "
      ]
     },
     "execution_count": 221,
     "metadata": {},
     "output_type": "execute_result"
    }
   ],
   "source": [
    "# Cek info lebih detail pada setiap fitur\n",
    "listItem = []\n",
    "\n",
    "for col in df_model.columns :\n",
    "    listItem.append([col, df_model[col].dtype, df_model[col].isna().sum(), round((df_model[col].isna().sum()/len(df_model[col]))*100, 2),\n",
    "                    df_model[col].nunique(), list(df_model[col].drop_duplicates().sample(2).values)])\n",
    "    \n",
    "df_model_desc = pd.DataFrame(columns = ['dataFeatures', 'dataType', 'null', 'nullPct', 'unique', 'uniqueSample'],\n",
    "                            data = listItem)\n",
    "df_model_desc"
   ]
  },
  {
   "cell_type": "code",
   "execution_count": 222,
   "id": "12122bc9",
   "metadata": {},
   "outputs": [
    {
     "data": {
      "text/plain": [
       "<AxesSubplot:>"
      ]
     },
     "execution_count": 222,
     "metadata": {},
     "output_type": "execute_result"
    },
    {
     "data": {
      "image/png": "[encoded data removed]",
      "text/plain": [
       "<Figure size 432x288 with 1 Axes>"
      ]
     },
     "metadata": {
      "needs_background": "light"
     },
     "output_type": "display_data"
    }
   ],
   "source": [
    "# Missing value heatmap\n",
    "\n",
    "sns.heatmap(df_model.isnull(), cbar=False)"
   ]
  },
  {
   "cell_type": "markdown",
   "id": "53310993",
   "metadata": {},
   "source": [
    "Berdasarkan info dataset serta heatmap diatas, terlihat bahwa tidak ada fitur yang memiliki missing value. "
   ]
  },
  {
   "cell_type": "markdown",
   "id": "21e7a00f",
   "metadata": {},
   "source": [
    "Kita juga dapat mengetahui bahwa tidak ada data yang duplikat pada dataset. Oleh karena itu, dataset ini tidak memiliki data yang duplikat. Untuk memastikannya, kita bisa cek dengan menggunakan function duplicated()."
   ]
  },
  {
   "cell_type": "code",
   "execution_count": 223,
   "id": "a38b5cc4",
   "metadata": {},
   "outputs": [
    {
     "data": {
      "text/plain": [
       "1422"
      ]
     },
     "execution_count": 223,
     "metadata": {},
     "output_type": "execute_result"
    }
   ],
   "source": [
    "# Cek data duplikat\n",
    "df_model.duplicated().sum()"
   ]
  },
  {
   "cell_type": "markdown",
   "id": "fa964851",
   "metadata": {},
   "source": [
    "Terlihat bahwa dataset yang kita miliki terdapat data duplikat sebanyak 1422. Oleh karena itu, kita harus drop data duplikat tersebut untuk menghindari terjadinya bias."
   ]
  },
  {
   "cell_type": "code",
   "execution_count": 224,
   "id": "1274286e",
   "metadata": {},
   "outputs": [],
   "source": [
    "# Drop data duplikat\n",
    "df_model = df_model.drop_duplicates()"
   ]
  },
  {
   "cell_type": "code",
   "execution_count": 225,
   "id": "f87854e5",
   "metadata": {},
   "outputs": [
    {
     "data": {
      "text/html": [
       "<div>\n",
       "<style scoped>\n",
       "    .dataframe tbody tr th:only-of-type {\n",
       "        vertical-align: middle;\n",
       "    }\n",
       "\n",
       "    .dataframe tbody tr th {\n",
       "        vertical-align: top;\n",
       "    }\n",
       "\n",
       "    .dataframe thead th {\n",
       "        text-align: right;\n",
       "    }\n",
       "</style>\n",
       "<table border=\"1\" class=\"dataframe\">\n",
       "  <thead>\n",
       "    <tr style=\"text-align: right;\">\n",
       "      <th></th>\n",
       "      <th>HallwayType</th>\n",
       "      <th>TimeToSubway</th>\n",
       "      <th>SubwayStation</th>\n",
       "      <th>N_FacilitiesNearBy(ETC)</th>\n",
       "      <th>N_FacilitiesNearBy(PublicOffice)</th>\n",
       "      <th>N_SchoolNearBy(University)</th>\n",
       "      <th>N_Parkinglot(Basement)</th>\n",
       "      <th>YearBuilt</th>\n",
       "      <th>N_FacilitiesInApt</th>\n",
       "      <th>Size(sqf)</th>\n",
       "      <th>SalePrice</th>\n",
       "    </tr>\n",
       "  </thead>\n",
       "  <tbody>\n",
       "  </tbody>\n",
       "</table>\n",
       "</div>"
      ],
      "text/plain": [
       "Empty DataFrame\n",
       "Columns: [HallwayType, TimeToSubway, SubwayStation, N_FacilitiesNearBy(ETC), N_FacilitiesNearBy(PublicOffice), N_SchoolNearBy(University), N_Parkinglot(Basement), YearBuilt, N_FacilitiesInApt, Size(sqf), SalePrice]\n",
       "Index: []"
      ]
     },
     "execution_count": 225,
     "metadata": {},
     "output_type": "execute_result"
    }
   ],
   "source": [
    "# Memastikan bahwa sudah tidak ada data duplikat\n",
    "df_model[df_model.duplicated()]"
   ]
  },
  {
   "cell_type": "markdown",
   "id": "5965c55e",
   "metadata": {},
   "source": [
    "Data yang kita miliki sudah tidak terdapat data yang duplikat."
   ]
  },
  {
   "cell_type": "code",
   "execution_count": 226,
   "id": "c60fbf0a",
   "metadata": {},
   "outputs": [
    {
     "data": {
      "text/html": [
       "<div>\n",
       "<style scoped>\n",
       "    .dataframe tbody tr th:only-of-type {\n",
       "        vertical-align: middle;\n",
       "    }\n",
       "\n",
       "    .dataframe tbody tr th {\n",
       "        vertical-align: top;\n",
       "    }\n",
       "\n",
       "    .dataframe thead th {\n",
       "        text-align: right;\n",
       "    }\n",
       "</style>\n",
       "<table border=\"1\" class=\"dataframe\">\n",
       "  <thead>\n",
       "    <tr style=\"text-align: right;\">\n",
       "      <th></th>\n",
       "      <th>N_FacilitiesNearBy(ETC)</th>\n",
       "      <th>N_FacilitiesNearBy(PublicOffice)</th>\n",
       "      <th>N_SchoolNearBy(University)</th>\n",
       "      <th>N_Parkinglot(Basement)</th>\n",
       "      <th>YearBuilt</th>\n",
       "      <th>N_FacilitiesInApt</th>\n",
       "      <th>Size(sqf)</th>\n",
       "      <th>SalePrice</th>\n",
       "    </tr>\n",
       "  </thead>\n",
       "  <tbody>\n",
       "    <tr>\n",
       "      <th>count</th>\n",
       "      <td>2701.000000</td>\n",
       "      <td>2701.000000</td>\n",
       "      <td>2701.000000</td>\n",
       "      <td>2701.000000</td>\n",
       "      <td>2701.000000</td>\n",
       "      <td>2701.000000</td>\n",
       "      <td>2701.000000</td>\n",
       "      <td>2701.000000</td>\n",
       "    </tr>\n",
       "    <tr>\n",
       "      <th>mean</th>\n",
       "      <td>1.890411</td>\n",
       "      <td>4.027027</td>\n",
       "      <td>2.680489</td>\n",
       "      <td>533.746390</td>\n",
       "      <td>2002.358386</td>\n",
       "      <td>5.713439</td>\n",
       "      <td>984.028878</td>\n",
       "      <td>229511.365790</td>\n",
       "    </tr>\n",
       "    <tr>\n",
       "      <th>std</th>\n",
       "      <td>2.153168</td>\n",
       "      <td>1.887486</td>\n",
       "      <td>1.504470</td>\n",
       "      <td>418.224859</td>\n",
       "      <td>9.151949</td>\n",
       "      <td>2.386552</td>\n",
       "      <td>391.982619</td>\n",
       "      <td>105079.891321</td>\n",
       "    </tr>\n",
       "    <tr>\n",
       "      <th>min</th>\n",
       "      <td>0.000000</td>\n",
       "      <td>0.000000</td>\n",
       "      <td>0.000000</td>\n",
       "      <td>0.000000</td>\n",
       "      <td>1978.000000</td>\n",
       "      <td>1.000000</td>\n",
       "      <td>135.000000</td>\n",
       "      <td>32743.000000</td>\n",
       "    </tr>\n",
       "    <tr>\n",
       "      <th>25%</th>\n",
       "      <td>0.000000</td>\n",
       "      <td>3.000000</td>\n",
       "      <td>2.000000</td>\n",
       "      <td>181.000000</td>\n",
       "      <td>1993.000000</td>\n",
       "      <td>4.000000</td>\n",
       "      <td>743.000000</td>\n",
       "      <td>153539.000000</td>\n",
       "    </tr>\n",
       "    <tr>\n",
       "      <th>50%</th>\n",
       "      <td>1.000000</td>\n",
       "      <td>4.000000</td>\n",
       "      <td>2.000000</td>\n",
       "      <td>536.000000</td>\n",
       "      <td>2006.000000</td>\n",
       "      <td>5.000000</td>\n",
       "      <td>910.000000</td>\n",
       "      <td>221238.000000</td>\n",
       "    </tr>\n",
       "    <tr>\n",
       "      <th>75%</th>\n",
       "      <td>5.000000</td>\n",
       "      <td>5.000000</td>\n",
       "      <td>4.000000</td>\n",
       "      <td>798.000000</td>\n",
       "      <td>2007.000000</td>\n",
       "      <td>7.000000</td>\n",
       "      <td>1167.000000</td>\n",
       "      <td>300884.000000</td>\n",
       "    </tr>\n",
       "    <tr>\n",
       "      <th>max</th>\n",
       "      <td>5.000000</td>\n",
       "      <td>7.000000</td>\n",
       "      <td>5.000000</td>\n",
       "      <td>1321.000000</td>\n",
       "      <td>2015.000000</td>\n",
       "      <td>10.000000</td>\n",
       "      <td>2337.000000</td>\n",
       "      <td>585840.000000</td>\n",
       "    </tr>\n",
       "  </tbody>\n",
       "</table>\n",
       "</div>"
      ],
      "text/plain": [
       "       N_FacilitiesNearBy(ETC)  N_FacilitiesNearBy(PublicOffice)  \\\n",
       "count              2701.000000                       2701.000000   \n",
       "mean                  1.890411                          4.027027   \n",
       "std                   2.153168                          1.887486   \n",
       "min                   0.000000                          0.000000   \n",
       "25%                   0.000000                          3.000000   \n",
       "50%                   1.000000                          4.000000   \n",
       "75%                   5.000000                          5.000000   \n",
       "max                   5.000000                          7.000000   \n",
       "\n",
       "       N_SchoolNearBy(University)  N_Parkinglot(Basement)    YearBuilt  \\\n",
       "count                 2701.000000             2701.000000  2701.000000   \n",
       "mean                     2.680489              533.746390  2002.358386   \n",
       "std                      1.504470              418.224859     9.151949   \n",
       "min                      0.000000                0.000000  1978.000000   \n",
       "25%                      2.000000              181.000000  1993.000000   \n",
       "50%                      2.000000              536.000000  2006.000000   \n",
       "75%                      4.000000              798.000000  2007.000000   \n",
       "max                      5.000000             1321.000000  2015.000000   \n",
       "\n",
       "       N_FacilitiesInApt    Size(sqf)      SalePrice  \n",
       "count        2701.000000  2701.000000    2701.000000  \n",
       "mean            5.713439   984.028878  229511.365790  \n",
       "std             2.386552   391.982619  105079.891321  \n",
       "min             1.000000   135.000000   32743.000000  \n",
       "25%             4.000000   743.000000  153539.000000  \n",
       "50%             5.000000   910.000000  221238.000000  \n",
       "75%             7.000000  1167.000000  300884.000000  \n",
       "max            10.000000  2337.000000  585840.000000  "
      ]
     },
     "execution_count": 226,
     "metadata": {},
     "output_type": "execute_result"
    }
   ],
   "source": [
    "# Cek deskriptif statistik fitur numerikal\n",
    "df_model.describe()"
   ]
  },
  {
   "cell_type": "code",
   "execution_count": 227,
   "id": "761a9146",
   "metadata": {
    "scrolled": true
   },
   "outputs": [
    {
     "name": "stdout",
     "output_type": "stream",
     "text": [
      "<class 'pandas.core.frame.DataFrame'>\n",
      "Int64Index: 2701 entries, 0 to 4121\n",
      "Data columns (total 11 columns):\n",
      " #   Column                            Non-Null Count  Dtype  \n",
      "---  ------                            --------------  -----  \n",
      " 0   HallwayType                       2701 non-null   object \n",
      " 1   TimeToSubway                      2701 non-null   object \n",
      " 2   SubwayStation                     2701 non-null   object \n",
      " 3   N_FacilitiesNearBy(ETC)           2701 non-null   float64\n",
      " 4   N_FacilitiesNearBy(PublicOffice)  2701 non-null   float64\n",
      " 5   N_SchoolNearBy(University)        2701 non-null   float64\n",
      " 6   N_Parkinglot(Basement)            2701 non-null   float64\n",
      " 7   YearBuilt                         2701 non-null   int64  \n",
      " 8   N_FacilitiesInApt                 2701 non-null   int64  \n",
      " 9   Size(sqf)                         2701 non-null   int64  \n",
      " 10  SalePrice                         2701 non-null   int64  \n",
      "dtypes: float64(4), int64(4), object(3)\n",
      "memory usage: 253.2+ KB\n"
     ]
    }
   ],
   "source": [
    "# Cek kembali general info dataset\n",
    "df_model.info()"
   ]
  },
  {
   "cell_type": "markdown",
   "id": "6cdf7bb4",
   "metadata": {},
   "source": [
    "**Data Correlation**"
   ]
  },
  {
   "cell_type": "code",
   "execution_count": 228,
   "id": "6d35d166",
   "metadata": {},
   "outputs": [
    {
     "data": {
      "image/png": "[encoded data removed]",
      "text/plain": [
       "<Figure size 1080x720 with 2 Axes>"
      ]
     },
     "metadata": {
      "needs_background": "light"
     },
     "output_type": "display_data"
    }
   ],
   "source": [
    "plt.figure(figsize = (15,10))\n",
    "palette = sns.diverging_palette(20, 220, n=256)\n",
    "corr = df_model.corr(method='pearson')\n",
    "sns.heatmap(corr, annot=True, fmt='.2f', cmap=palette, square=True, linewidths=.5)\n",
    "plt.title('Correlation Matrix', size=15, weight='bold')\n",
    "plt.show()"
   ]
  },
  {
   "cell_type": "markdown",
   "id": "59559331",
   "metadata": {},
   "source": [
    "Pada correlation matrix diatas menunjukkan bahwa terdapat 4 fitur yang memiliki korelasi paling tinggi terhadap fitur 'SalePrice', yaitu fitur 'Size(sqf)', 'N_FacilitiesInApt', 'N_ParkingLot(Basement)', dan 'YearBuilt'. Dimana korelasinya adalah korelasi positif. Ini berarti luas bangunan, fasilitas di dalam apartemen, tempat parkir, serta tahun berdirinya bangunan tersebut memiliki pengaruh yang cukup besar terhadap harga jual apartemen tersebut."
   ]
  },
  {
   "cell_type": "markdown",
   "id": "91378ad3",
   "metadata": {},
   "source": [
    "Selanjutnya, kita akan mengecek distribusi data dan outliers untuk tiap numerikal fitur. Jika distribusinya memiliki skewness yang tinggi, salah satu cara yang dapat kita lakukan untuk menguranginya adalah dengan melakukan rekayasa pada tiap fiturnya."
   ]
  },
  {
   "cell_type": "markdown",
   "id": "2a28df42",
   "metadata": {},
   "source": [
    "**Outliers Detection**"
   ]
  },
  {
   "cell_type": "markdown",
   "id": "82f39d37",
   "metadata": {},
   "source": [
    "Banyaknya outliers pada data tentu akan memengaruhi hasil analisis dan pemodelan yang dilakukan. Ada beberapa hal yang harus dipertimbangkan sebelum memutuskan treatment yang sesuai dengan data, di antaranya adalah dengan mempertimbangkan sisi domain knowledge."
   ]
  },
  {
   "cell_type": "code",
   "execution_count": 229,
   "id": "fce5e85d",
   "metadata": {},
   "outputs": [
    {
     "data": {
      "text/plain": [
       "<AxesSubplot:>"
      ]
     },
     "execution_count": 229,
     "metadata": {},
     "output_type": "execute_result"
    },
    {
     "data": {
      "image/png": "[encoded data removed]",
      "text/plain": [
       "<Figure size 432x288 with 1 Axes>"
      ]
     },
     "metadata": {
      "needs_background": "light"
     },
     "output_type": "display_data"
    }
   ],
   "source": [
    "# Boxplot untuk mengecek outliers\n",
    "df_model.boxplot(rot=90)"
   ]
  },
  {
   "cell_type": "markdown",
   "id": "06c17e40",
   "metadata": {},
   "source": [
    "Terlihat banyak sekali outliers pada fitur SalePrice. Dalam project ini, untuk membuat dataset yang lebih bersih dari outliers, saya akan melakukan beberapa rekayasa data pada fitur-fitur dengan mempertimbangkan kombinasi antara hasil dari metode IQR dan juga domain knowledge. Nantinya, model yang dihasilkan hanya terbatas dapat memprediksi listing baru yang nilai-nilainya pada rentang data berdasarkan 'clean dataset' ini saja. Di luar rentang data, hasil prediksi dari model akan menjadi bias."
   ]
  },
  {
   "cell_type": "code",
   "execution_count": 230,
   "id": "6102907e",
   "metadata": {},
   "outputs": [],
   "source": [
    "# Membuat fungsi untuk mengecek outliers\n",
    "def find_anomalies(data):\n",
    "    q1 = data.quantile(0.25)\n",
    "    q3 = data.quantile(0.75)\n",
    "    iqr = q3 - q1\n",
    "    limit = iqr*1.5\n",
    "    print('IQR : {}'.format(iqr))\n",
    "    \n",
    "    limit_bawah = q1 - limit\n",
    "    limit_atas = q3 + limit\n",
    "    print('limit bawah : {}'.format(limit_bawah))\n",
    "    print('limit_atas : {}'.format(limit_atas))"
   ]
  },
  {
   "cell_type": "code",
   "execution_count": 231,
   "id": "7395d435",
   "metadata": {},
   "outputs": [
    {
     "name": "stdout",
     "output_type": "stream",
     "text": [
      "IQR : 147345.0\n",
      "limit bawah : -67478.5\n",
      "limit_atas : 521901.5\n"
     ]
    }
   ],
   "source": [
    "# Outliers pada fitur SalePrice\n",
    "find_anomalies(df_model['SalePrice'])"
   ]
  },
  {
   "cell_type": "code",
   "execution_count": 232,
   "id": "71eb88db",
   "metadata": {},
   "outputs": [
    {
     "data": {
      "text/plain": [
       "count      2701.000000\n",
       "mean     229511.365790\n",
       "std      105079.891321\n",
       "min       32743.000000\n",
       "25%      153539.000000\n",
       "50%      221238.000000\n",
       "75%      300884.000000\n",
       "max      585840.000000\n",
       "Name: SalePrice, dtype: float64"
      ]
     },
     "execution_count": 232,
     "metadata": {},
     "output_type": "execute_result"
    }
   ],
   "source": [
    "# Cek deskriptif statistik fitur SalePrice\n",
    "df_model['SalePrice'].describe()"
   ]
  },
  {
   "cell_type": "code",
   "execution_count": 233,
   "id": "9befccd9",
   "metadata": {},
   "outputs": [
    {
     "data": {
      "text/plain": [
       "17"
      ]
     },
     "execution_count": 233,
     "metadata": {},
     "output_type": "execute_result"
    }
   ],
   "source": [
    "# Cek SalePrice > $521901.5\n",
    "df_model[df_model['SalePrice'] > 521901.5].count()['SalePrice']"
   ]
  },
  {
   "cell_type": "markdown",
   "id": "b34cb0ad",
   "metadata": {},
   "source": [
    "Terlihat bahwa 75% data pada kolom SalePrice bernilai kurang dari 300884, sedangkan nilai maksimalnya adalah 585840. Tentu terdapat skewness pada distribusinya, yaitu tail yang memanjang di sebelah kanan (positive skewness). Terdapat 17 data yang nilai price-nya lebih besar dari 321.5 (batas atas berdasarkan metode IQR). Oleh karena itu, data yang memiliki price lebih besar dari 521901.5 tidak akan dimasukkan ke dalam pemodelan, sehingga skewness-nya pun akan berkurang. Hal ini tentu akan menjadi limitasi untuk model yang nantinya dibangun. "
   ]
  },
  {
   "cell_type": "code",
   "execution_count": 234,
   "id": "3638715c",
   "metadata": {},
   "outputs": [
    {
     "data": {
      "text/plain": [
       "Text(0.5, 0, 'Range Selected Price')"
      ]
     },
     "execution_count": 234,
     "metadata": {},
     "output_type": "execute_result"
    },
    {
     "data": {
      "image/png": "[encoded data removed]",
      "text/plain": [
       "<Figure size 1512x432 with 2 Axes>"
      ]
     },
     "metadata": {
      "needs_background": "light"
     },
     "output_type": "display_data"
    }
   ],
   "source": [
    "df_model = df_model[(df_model['SalePrice'] <= 521901.5)]\n",
    "\n",
    "fig, axes = plt.subplots(1,2, figsize=(21,6))\n",
    "sns.distplot(data['SalePrice'], ax=axes[0])\n",
    "sns.distplot(df_model['SalePrice'], ax=axes[1])\n",
    "axes[0].set_xlabel('Price')\n",
    "axes[1].set_xlabel('Range Selected Price')"
   ]
  },
  {
   "cell_type": "code",
   "execution_count": 235,
   "id": "9395b940",
   "metadata": {
    "scrolled": true
   },
   "outputs": [
    {
     "data": {
      "text/plain": [
       "count      2684.000000\n",
       "mean     227524.476528\n",
       "std      102380.847211\n",
       "min       32743.000000\n",
       "25%      153097.000000\n",
       "50%      220088.000000\n",
       "75%      297455.500000\n",
       "max      517699.000000\n",
       "Name: SalePrice, dtype: float64"
      ]
     },
     "execution_count": 235,
     "metadata": {},
     "output_type": "execute_result"
    }
   ],
   "source": [
    "# Cek Deskriptif statistik fitur SalePrice setelah filtering\n",
    "df_model['SalePrice'].describe()"
   ]
  },
  {
   "cell_type": "markdown",
   "id": "db75209a",
   "metadata": {},
   "source": [
    "**Clean Dataset**"
   ]
  },
  {
   "cell_type": "code",
   "execution_count": 236,
   "id": "835e1465",
   "metadata": {},
   "outputs": [
    {
     "data": {
      "text/html": [
       "<div>\n",
       "<style scoped>\n",
       "    .dataframe tbody tr th:only-of-type {\n",
       "        vertical-align: middle;\n",
       "    }\n",
       "\n",
       "    .dataframe tbody tr th {\n",
       "        vertical-align: top;\n",
       "    }\n",
       "\n",
       "    .dataframe thead th {\n",
       "        text-align: right;\n",
       "    }\n",
       "</style>\n",
       "<table border=\"1\" class=\"dataframe\">\n",
       "  <thead>\n",
       "    <tr style=\"text-align: right;\">\n",
       "      <th></th>\n",
       "      <th>HallwayType</th>\n",
       "      <th>TimeToSubway</th>\n",
       "      <th>SubwayStation</th>\n",
       "      <th>N_FacilitiesNearBy(ETC)</th>\n",
       "      <th>N_FacilitiesNearBy(PublicOffice)</th>\n",
       "      <th>N_SchoolNearBy(University)</th>\n",
       "      <th>N_Parkinglot(Basement)</th>\n",
       "      <th>YearBuilt</th>\n",
       "      <th>N_FacilitiesInApt</th>\n",
       "      <th>Size(sqf)</th>\n",
       "      <th>SalePrice</th>\n",
       "    </tr>\n",
       "  </thead>\n",
       "  <tbody>\n",
       "    <tr>\n",
       "      <th>0</th>\n",
       "      <td>terraced</td>\n",
       "      <td>0-5min</td>\n",
       "      <td>Kyungbuk_uni_hospital</td>\n",
       "      <td>0.0</td>\n",
       "      <td>3.0</td>\n",
       "      <td>2.0</td>\n",
       "      <td>1270.0</td>\n",
       "      <td>2007</td>\n",
       "      <td>10</td>\n",
       "      <td>1387</td>\n",
       "      <td>346017</td>\n",
       "    </tr>\n",
       "    <tr>\n",
       "      <th>1</th>\n",
       "      <td>terraced</td>\n",
       "      <td>10min~15min</td>\n",
       "      <td>Kyungbuk_uni_hospital</td>\n",
       "      <td>1.0</td>\n",
       "      <td>5.0</td>\n",
       "      <td>1.0</td>\n",
       "      <td>0.0</td>\n",
       "      <td>1986</td>\n",
       "      <td>4</td>\n",
       "      <td>914</td>\n",
       "      <td>150442</td>\n",
       "    </tr>\n",
       "    <tr>\n",
       "      <th>2</th>\n",
       "      <td>mixed</td>\n",
       "      <td>15min~20min</td>\n",
       "      <td>Chil-sung-market</td>\n",
       "      <td>1.0</td>\n",
       "      <td>7.0</td>\n",
       "      <td>3.0</td>\n",
       "      <td>56.0</td>\n",
       "      <td>1997</td>\n",
       "      <td>5</td>\n",
       "      <td>558</td>\n",
       "      <td>61946</td>\n",
       "    </tr>\n",
       "    <tr>\n",
       "      <th>3</th>\n",
       "      <td>mixed</td>\n",
       "      <td>5min~10min</td>\n",
       "      <td>Bangoge</td>\n",
       "      <td>5.0</td>\n",
       "      <td>5.0</td>\n",
       "      <td>4.0</td>\n",
       "      <td>798.0</td>\n",
       "      <td>2005</td>\n",
       "      <td>7</td>\n",
       "      <td>914</td>\n",
       "      <td>165486</td>\n",
       "    </tr>\n",
       "    <tr>\n",
       "      <th>4</th>\n",
       "      <td>terraced</td>\n",
       "      <td>0-5min</td>\n",
       "      <td>Sin-nam</td>\n",
       "      <td>0.0</td>\n",
       "      <td>1.0</td>\n",
       "      <td>2.0</td>\n",
       "      <td>536.0</td>\n",
       "      <td>2006</td>\n",
       "      <td>5</td>\n",
       "      <td>1743</td>\n",
       "      <td>311504</td>\n",
       "    </tr>\n",
       "  </tbody>\n",
       "</table>\n",
       "</div>"
      ],
      "text/plain": [
       "  HallwayType TimeToSubway          SubwayStation  N_FacilitiesNearBy(ETC)  \\\n",
       "0    terraced       0-5min  Kyungbuk_uni_hospital                      0.0   \n",
       "1    terraced  10min~15min  Kyungbuk_uni_hospital                      1.0   \n",
       "2       mixed  15min~20min       Chil-sung-market                      1.0   \n",
       "3       mixed   5min~10min                Bangoge                      5.0   \n",
       "4    terraced       0-5min                Sin-nam                      0.0   \n",
       "\n",
       "   N_FacilitiesNearBy(PublicOffice)  N_SchoolNearBy(University)  \\\n",
       "0                               3.0                         2.0   \n",
       "1                               5.0                         1.0   \n",
       "2                               7.0                         3.0   \n",
       "3                               5.0                         4.0   \n",
       "4                               1.0                         2.0   \n",
       "\n",
       "   N_Parkinglot(Basement)  YearBuilt  N_FacilitiesInApt  Size(sqf)  SalePrice  \n",
       "0                  1270.0       2007                 10       1387     346017  \n",
       "1                     0.0       1986                  4        914     150442  \n",
       "2                    56.0       1997                  5        558      61946  \n",
       "3                   798.0       2005                  7        914     165486  \n",
       "4                   536.0       2006                  5       1743     311504  "
      ]
     },
     "execution_count": 236,
     "metadata": {},
     "output_type": "execute_result"
    }
   ],
   "source": [
    "# Cek dataset yang sudah bersih\n",
    "df_model.head()"
   ]
  },
  {
   "cell_type": "code",
   "execution_count": 237,
   "id": "2230392c",
   "metadata": {
    "scrolled": true
   },
   "outputs": [
    {
     "name": "stdout",
     "output_type": "stream",
     "text": [
      "<class 'pandas.core.frame.DataFrame'>\n",
      "Int64Index: 2684 entries, 0 to 4121\n",
      "Data columns (total 11 columns):\n",
      " #   Column                            Non-Null Count  Dtype  \n",
      "---  ------                            --------------  -----  \n",
      " 0   HallwayType                       2684 non-null   object \n",
      " 1   TimeToSubway                      2684 non-null   object \n",
      " 2   SubwayStation                     2684 non-null   object \n",
      " 3   N_FacilitiesNearBy(ETC)           2684 non-null   float64\n",
      " 4   N_FacilitiesNearBy(PublicOffice)  2684 non-null   float64\n",
      " 5   N_SchoolNearBy(University)        2684 non-null   float64\n",
      " 6   N_Parkinglot(Basement)            2684 non-null   float64\n",
      " 7   YearBuilt                         2684 non-null   int64  \n",
      " 8   N_FacilitiesInApt                 2684 non-null   int64  \n",
      " 9   Size(sqf)                         2684 non-null   int64  \n",
      " 10  SalePrice                         2684 non-null   int64  \n",
      "dtypes: float64(4), int64(4), object(3)\n",
      "memory usage: 251.6+ KB\n"
     ]
    }
   ],
   "source": [
    "# Cek kembali general info dataset\n",
    "df_model.info()"
   ]
  },
  {
   "cell_type": "markdown",
   "id": "bc85dc15",
   "metadata": {},
   "source": [
    "Data akhir yang akan kita gunakan untuk pemodelan kini tersisa 2684 baris. Dimana kurang lebih 35% data sudah tereliminasi sesuai dengan asumsi dan argumen yang disampaikan diproses-proses sebelumnya."
   ]
  },
  {
   "cell_type": "markdown",
   "id": "a43be191",
   "metadata": {},
   "source": [
    "### Modeling"
   ]
  },
  {
   "cell_type": "code",
   "execution_count": 238,
   "id": "56e11cb7",
   "metadata": {},
   "outputs": [],
   "source": [
    "# Import library untuk modeling\n",
    "\n",
    "from sklearn.model_selection import train_test_split, cross_val_score, RandomizedSearchCV, KFold\n",
    "\n",
    "from sklearn.preprocessing import OneHotEncoder\n",
    "from sklearn.compose import ColumnTransformer\n",
    "from sklearn.pipeline import Pipeline\n",
    "\n",
    "from sklearn.linear_model import LinearRegression, Ridge, Lasso\n",
    "from sklearn.neighbors import KNeighborsRegressor\n",
    "from sklearn.tree import DecisionTreeRegressor\n",
    "from sklearn.ensemble import RandomForestRegressor\n",
    "from xgboost.sklearn import XGBRegressor\n",
    "from sklearn.compose import TransformedTargetRegressor\n",
    "\n",
    "from sklearn.preprocessing import StandardScaler\n",
    "\n",
    "from sklearn.metrics import mean_squared_error, mean_absolute_error, mean_absolute_percentage_error"
   ]
  },
  {
   "cell_type": "markdown",
   "id": "ecf41838",
   "metadata": {},
   "source": [
    "**Encoding**"
   ]
  },
  {
   "cell_type": "markdown",
   "id": "0a41ca92",
   "metadata": {},
   "source": [
    "Agar dapat menggunakan semua fitur yang dipilih, maka fitur-fitur kategorikal harus diubah menjadi fitur numerikal. Kita dapat menggunakan ColumnTransformer untuk dapat mengubah tipe datanya, yang mana nanti dapat diaplikasikan pada pipeline model."
   ]
  },
  {
   "cell_type": "code",
   "execution_count": 239,
   "id": "5eb8fa72",
   "metadata": {},
   "outputs": [],
   "source": [
    "# Mengubah fitur kategorikal menjadi numerikal\n",
    "transformer = ColumnTransformer([\n",
    "    ('One Hot', OneHotEncoder(drop='first'), ['HallwayType', 'TimeToSubway', 'SubwayStation'])\n",
    "], remainder='passthrough')"
   ]
  },
  {
   "cell_type": "markdown",
   "id": "c6b101ef",
   "metadata": {},
   "source": [
    "**Data Splitting**"
   ]
  },
  {
   "cell_type": "code",
   "execution_count": 240,
   "id": "01fddf4a",
   "metadata": {},
   "outputs": [],
   "source": [
    "# Memisahkan data independen variabel dengan target\n",
    "x = df_model.drop('SalePrice', axis=1)\n",
    "y = df_model['SalePrice']"
   ]
  },
  {
   "cell_type": "markdown",
   "id": "4a52e4b3",
   "metadata": {},
   "source": [
    "**Train and Test Splitting**"
   ]
  },
  {
   "cell_type": "code",
   "execution_count": 241,
   "id": "57b67a0f",
   "metadata": {},
   "outputs": [],
   "source": [
    "# Splitting data training dan test dengan proporsi 80:20\n",
    "x_train, x_test, y_train, y_test = train_test_split(x, y, test_size=0.2, random_state=2020)"
   ]
  },
  {
   "cell_type": "markdown",
   "id": "41f77ad5",
   "metadata": {},
   "source": [
    "**Choose a Benchmark Model**"
   ]
  },
  {
   "cell_type": "code",
   "execution_count": 242,
   "id": "813718a6",
   "metadata": {},
   "outputs": [
    {
     "name": "stdout",
     "output_type": "stream",
     "text": [
      "[-51645.34810157 -53342.96109897 -55496.9129421  -53488.1797629\n",
      " -56700.08725456] TransformedTargetRegressor(func=<ufunc 'log'>, inverse_func=<ufunc 'exp'>,\n",
      "                           regressor=LinearRegression())\n",
      "[-40809.97124428 -42177.57872018 -44330.09496935 -42164.51860953\n",
      " -44380.86593411] TransformedTargetRegressor(func=<ufunc 'log'>, inverse_func=<ufunc 'exp'>,\n",
      "                           regressor=LinearRegression())\n",
      "[-0.20234805 -0.21670734 -0.22429319 -0.21619772 -0.21897473] TransformedTargetRegressor(func=<ufunc 'log'>, inverse_func=<ufunc 'exp'>,\n",
      "                           regressor=LinearRegression())\n",
      "[-48265.15355443 -50130.61485848 -50728.95363573 -46606.78124582\n",
      " -49047.79032179] TransformedTargetRegressor(func=<ufunc 'log'>, inverse_func=<ufunc 'exp'>,\n",
      "                           regressor=KNeighborsRegressor())\n",
      "[-37568.31358278 -39305.97842636 -39606.89768486 -37091.55216312\n",
      " -39025.06611824] TransformedTargetRegressor(func=<ufunc 'log'>, inverse_func=<ufunc 'exp'>,\n",
      "                           regressor=KNeighborsRegressor())\n",
      "[-0.19173183 -0.20385266 -0.20438327 -0.19341456 -0.19359267] TransformedTargetRegressor(func=<ufunc 'log'>, inverse_func=<ufunc 'exp'>,\n",
      "                           regressor=KNeighborsRegressor())\n",
      "[-44001.45238918 -46542.30256078 -47360.52859563 -44253.83396415\n",
      " -47372.76807879] TransformedTargetRegressor(func=<ufunc 'log'>, inverse_func=<ufunc 'exp'>,\n",
      "                           regressor=DecisionTreeRegressor(random_state=2020))\n",
      "[-34291.86731835 -37017.55035923 -37416.5105444  -35421.21760047\n",
      " -37445.27307456] TransformedTargetRegressor(func=<ufunc 'log'>, inverse_func=<ufunc 'exp'>,\n",
      "                           regressor=DecisionTreeRegressor(random_state=2020))\n",
      "[-0.17297391 -0.18836211 -0.19240563 -0.18256621 -0.18933822] TransformedTargetRegressor(func=<ufunc 'log'>, inverse_func=<ufunc 'exp'>,\n",
      "                           regressor=DecisionTreeRegressor(random_state=2020))\n",
      "[-44018.12575606 -46329.5910779  -47321.92627322 -44227.8657405\n",
      " -46382.74844733] TransformedTargetRegressor(func=<ufunc 'log'>, inverse_func=<ufunc 'exp'>,\n",
      "                           regressor=RandomForestRegressor(random_state=2020))\n",
      "[-34280.00474121 -36899.55600089 -37260.14844463 -35346.86628819\n",
      " -37014.43787764] TransformedTargetRegressor(func=<ufunc 'log'>, inverse_func=<ufunc 'exp'>,\n",
      "                           regressor=RandomForestRegressor(random_state=2020))\n",
      "[-0.17201632 -0.18656092 -0.19173651 -0.1821838  -0.18297903] TransformedTargetRegressor(func=<ufunc 'log'>, inverse_func=<ufunc 'exp'>,\n",
      "                           regressor=RandomForestRegressor(random_state=2020))\n",
      "[-43991.62180343 -46253.20038919 -47350.8559925  -44243.54064533\n",
      " -46373.7249003 ] TransformedTargetRegressor(func=<ufunc 'log'>, inverse_func=<ufunc 'exp'>,\n",
      "                           regressor=XGBRegressor(base_score=None, booster=None,\n",
      "                                                  callbacks=None,\n",
      "                                                  colsample_bylevel=None,\n",
      "                                                  colsample_bynode=None,\n",
      "                                                  colsample_bytree=None,\n",
      "                                                  early_stopping_rounds=None,\n",
      "                                                  enable_categorical=False,\n",
      "                                                  eval_metric=None, gamma=None,\n",
      "                                                  gpu_id=None, grow_policy=None,\n",
      "                                                  importance_type=None,\n",
      "                                                  interaction_constraints=None,\n",
      "                                                  learning_rate=None,\n",
      "                                                  max_bin=None,\n",
      "                                                  max_cat_to_onehot=None,\n",
      "                                                  max_delta_step=None,\n",
      "                                                  max_depth=None,\n",
      "                                                  max_leaves=None,\n",
      "                                                  min_child_weight=None,\n",
      "                                                  missing=nan,\n",
      "                                                  monotone_constraints=None,\n",
      "                                                  n_estimators=100, n_jobs=None,\n",
      "                                                  num_parallel_tree=None,\n",
      "                                                  predictor=None,\n",
      "                                                  random_state=2020,\n",
      "                                                  reg_alpha=None,\n",
      "                                                  reg_lambda=None, ...))\n",
      "[-34285.07451853 -36825.16896802 -37407.93438593 -35422.57859848\n",
      " -37021.7378715 ] TransformedTargetRegressor(func=<ufunc 'log'>, inverse_func=<ufunc 'exp'>,\n",
      "                           regressor=XGBRegressor(base_score=None, booster=None,\n",
      "                                                  callbacks=None,\n",
      "                                                  colsample_bylevel=None,\n",
      "                                                  colsample_bynode=None,\n",
      "                                                  colsample_bytree=None,\n",
      "                                                  early_stopping_rounds=None,\n",
      "                                                  enable_categorical=False,\n",
      "                                                  eval_metric=None, gamma=None,\n",
      "                                                  gpu_id=None, grow_policy=None,\n",
      "                                                  importance_type=None,\n",
      "                                                  interaction_constraints=None,\n",
      "                                                  learning_rate=None,\n",
      "                                                  max_bin=None,\n",
      "                                                  max_cat_to_onehot=None,\n",
      "                                                  max_delta_step=None,\n",
      "                                                  max_depth=None,\n",
      "                                                  max_leaves=None,\n",
      "                                                  min_child_weight=None,\n",
      "                                                  missing=nan,\n",
      "                                                  monotone_constraints=None,\n",
      "                                                  n_estimators=100, n_jobs=None,\n",
      "                                                  num_parallel_tree=None,\n",
      "                                                  predictor=None,\n",
      "                                                  random_state=2020,\n",
      "                                                  reg_alpha=None,\n",
      "                                                  reg_lambda=None, ...))\n",
      "[-0.17290539 -0.18646182 -0.19236862 -0.18252641 -0.1821545 ] TransformedTargetRegressor(func=<ufunc 'log'>, inverse_func=<ufunc 'exp'>,\n",
      "                           regressor=XGBRegressor(base_score=None, booster=None,\n",
      "                                                  callbacks=None,\n",
      "                                                  colsample_bylevel=None,\n",
      "                                                  colsample_bynode=None,\n",
      "                                                  colsample_bytree=None,\n",
      "                                                  early_stopping_rounds=None,\n",
      "                                                  enable_categorical=False,\n",
      "                                                  eval_metric=None, gamma=None,\n",
      "                                                  gpu_id=None, grow_policy=None,\n",
      "                                                  importance_type=None,\n",
      "                                                  interaction_constraints=None,\n",
      "                                                  learning_rate=None,\n",
      "                                                  max_bin=None,\n",
      "                                                  max_cat_to_onehot=None,\n",
      "                                                  max_delta_step=None,\n",
      "                                                  max_depth=None,\n",
      "                                                  max_leaves=None,\n",
      "                                                  min_child_weight=None,\n",
      "                                                  missing=nan,\n",
      "                                                  monotone_constraints=None,\n",
      "                                                  n_estimators=100, n_jobs=None,\n",
      "                                                  num_parallel_tree=None,\n",
      "                                                  predictor=None,\n",
      "                                                  random_state=2020,\n",
      "                                                  reg_alpha=None,\n",
      "                                                  reg_lambda=None, ...))\n",
      "[-51624.76923726 -53360.79117813 -55493.63183976 -53447.23269097\n",
      " -56666.93956358] TransformedTargetRegressor(func=<ufunc 'log'>, inverse_func=<ufunc 'exp'>,\n",
      "                           regressor=Ridge(random_state=2020))\n",
      "[-40766.48569817 -42189.20830676 -44292.76658762 -42115.23845131\n",
      " -44375.32824229] TransformedTargetRegressor(func=<ufunc 'log'>, inverse_func=<ufunc 'exp'>,\n",
      "                           regressor=Ridge(random_state=2020))\n"
     ]
    },
    {
     "name": "stdout",
     "output_type": "stream",
     "text": [
      "[-0.20278172 -0.21639961 -0.2239399  -0.21596995 -0.21903268] TransformedTargetRegressor(func=<ufunc 'log'>, inverse_func=<ufunc 'exp'>,\n",
      "                           regressor=Ridge(random_state=2020))\n",
      "[-109455.92002868 -107482.8381758  -104557.25176157 -107984.42578346\n",
      " -103846.15454257] TransformedTargetRegressor(func=<ufunc 'log'>, inverse_func=<ufunc 'exp'>,\n",
      "                           regressor=Lasso(random_state=2020))\n",
      "[-87803.38000022 -87584.43414481 -84281.5324862  -86447.26761175\n",
      " -82395.47729304] TransformedTargetRegressor(func=<ufunc 'log'>, inverse_func=<ufunc 'exp'>,\n",
      "                           regressor=Lasso(random_state=2020))\n",
      "[-0.50814479 -0.54350629 -0.5317058  -0.53462019 -0.48130179] TransformedTargetRegressor(func=<ufunc 'log'>, inverse_func=<ufunc 'exp'>,\n",
      "                           regressor=Lasso(random_state=2020))\n"
     ]
    }
   ],
   "source": [
    "# Define algoritma yang digunakan\n",
    "lr = LinearRegression()\n",
    "knn = KNeighborsRegressor()\n",
    "dt = DecisionTreeRegressor(random_state=2020)\n",
    "rf = RandomForestRegressor(random_state=2020)\n",
    "xgb = XGBRegressor(random_state=2020)\n",
    "rd = Ridge(random_state=2020)\n",
    "las = Lasso(random_state=2020)\n",
    "\n",
    "# Pemodelan dilakukan dalam skala logaritmik, namun kemudian di-inverse kembali untuk interpretasi\n",
    "log_lr = TransformedTargetRegressor(lr, func=np.log, inverse_func=np.exp)\n",
    "log_knn = TransformedTargetRegressor(knn, func=np.log, inverse_func=np.exp)\n",
    "log_dt = TransformedTargetRegressor(dt, func=np.log, inverse_func=np.exp)\n",
    "log_rf = TransformedTargetRegressor(rf, func=np.log, inverse_func=np.exp)\n",
    "log_xgb = TransformedTargetRegressor(xgb, func=np.log, inverse_func=np.exp)\n",
    "log_rd = TransformedTargetRegressor(rd, func=np.log, inverse_func=np.exp)\n",
    "log_las = TransformedTargetRegressor(las, func=np.log, inverse_func=np.exp)\n",
    "\n",
    "# Scaling data\n",
    "scaler = StandardScaler()\n",
    "\n",
    "# Kandidat algoritma\n",
    "models = [log_lr, log_knn, log_dt, log_rf, log_xgb, log_rd, log_las]\n",
    "\n",
    "score_rmse = []\n",
    "nilai_mean_rmse = []\n",
    "nilai_std_rmse = []\n",
    "\n",
    "score_mae = []\n",
    "nilai_mean_mae = []\n",
    "nilai_std_mae = []\n",
    "\n",
    "score_mape = []\n",
    "nilai_mean_mape = []\n",
    "nilai_std_mape = []\n",
    "\n",
    "# Mencari algoritma terbaik berdasarkan nilai metric evaluation\n",
    "for i in models:\n",
    "    \n",
    "    crossval = KFold(n_splits=5, shuffle=True, random_state=2020)\n",
    "\n",
    "    estimator = Pipeline([\n",
    "        ('preprocessing', transformer),\n",
    "        ('scaler', scaler),\n",
    "        ('model', i)\n",
    "    ])\n",
    "\n",
    "    # RMSE\n",
    "    model_cv_rmse = cross_val_score(\n",
    "        estimator, \n",
    "        x_train, \n",
    "        y_train, \n",
    "        cv=crossval, \n",
    "        scoring='neg_root_mean_squared_error', \n",
    "        error_score='raise'\n",
    "        )\n",
    "\n",
    "    print(model_cv_rmse, i)\n",
    "\n",
    "    score_rmse.append(model_cv_rmse)\n",
    "    nilai_mean_rmse.append(model_cv_rmse.mean())\n",
    "    nilai_std_rmse.append(model_cv_rmse.std())\n",
    "\n",
    "    # MAE\n",
    "    model_cv_mae = cross_val_score(\n",
    "        estimator, \n",
    "        x_train, \n",
    "        y_train, \n",
    "        cv=crossval, \n",
    "        scoring='neg_mean_absolute_error', \n",
    "        error_score='raise'\n",
    "        )\n",
    "\n",
    "    print(model_cv_mae, i)\n",
    "\n",
    "    score_mae.append(model_cv_mae)\n",
    "    nilai_mean_mae.append(model_cv_mae.mean())\n",
    "    nilai_std_mae.append(model_cv_mae.std())\n",
    "\n",
    "    # MAPE\n",
    "    model_cv_mape = cross_val_score(\n",
    "        estimator, \n",
    "        x_train, \n",
    "        y_train, \n",
    "        cv=crossval, \n",
    "        scoring='neg_mean_absolute_percentage_error', \n",
    "        error_score='raise'\n",
    "        )\n",
    "\n",
    "    print(model_cv_mape, i)\n",
    "\n",
    "    score_mape.append(model_cv_mape)\n",
    "    nilai_mean_mape.append(model_cv_mape.mean())\n",
    "    nilai_std_mape.append(model_cv_mape.std())"
   ]
  },
  {
   "cell_type": "code",
   "execution_count": 243,
   "id": "4d4d170e",
   "metadata": {},
   "outputs": [
    {
     "data": {
      "text/html": [
       "<div>\n",
       "<style scoped>\n",
       "    .dataframe tbody tr th:only-of-type {\n",
       "        vertical-align: middle;\n",
       "    }\n",
       "\n",
       "    .dataframe tbody tr th {\n",
       "        vertical-align: top;\n",
       "    }\n",
       "\n",
       "    .dataframe thead th {\n",
       "        text-align: right;\n",
       "    }\n",
       "</style>\n",
       "<table border=\"1\" class=\"dataframe\">\n",
       "  <thead>\n",
       "    <tr style=\"text-align: right;\">\n",
       "      <th></th>\n",
       "      <th>Model</th>\n",
       "      <th>Mean_RMSE</th>\n",
       "      <th>Std_RMSE</th>\n",
       "      <th>Mean_MAE</th>\n",
       "      <th>Std_MAE</th>\n",
       "      <th>Mean_MAPE</th>\n",
       "      <th>Std_MAPE</th>\n",
       "    </tr>\n",
       "  </thead>\n",
       "  <tbody>\n",
       "    <tr>\n",
       "      <th>0</th>\n",
       "      <td>Linear Regression</td>\n",
       "      <td>-54134.697832</td>\n",
       "      <td>1770.793474</td>\n",
       "      <td>-42772.605895</td>\n",
       "      <td>1384.776865</td>\n",
       "      <td>-0.215704</td>\n",
       "      <td>0.007268</td>\n",
       "    </tr>\n",
       "    <tr>\n",
       "      <th>1</th>\n",
       "      <td>KNN Regressor</td>\n",
       "      <td>-48955.858723</td>\n",
       "      <td>1451.041529</td>\n",
       "      <td>-38519.561595</td>\n",
       "      <td>1000.036974</td>\n",
       "      <td>-0.197395</td>\n",
       "      <td>0.005530</td>\n",
       "    </tr>\n",
       "    <tr>\n",
       "      <th>2</th>\n",
       "      <td>DecisionTree Regressor</td>\n",
       "      <td>-45906.177118</td>\n",
       "      <td>1485.186657</td>\n",
       "      <td>-36318.483779</td>\n",
       "      <td>1255.091379</td>\n",
       "      <td>-0.185129</td>\n",
       "      <td>0.006862</td>\n",
       "    </tr>\n",
       "    <tr>\n",
       "      <th>3</th>\n",
       "      <td>Random Forest Regressor</td>\n",
       "      <td>-45656.051459</td>\n",
       "      <td>1302.259428</td>\n",
       "      <td>-36160.202671</td>\n",
       "      <td>1156.105719</td>\n",
       "      <td>-0.183095</td>\n",
       "      <td>0.006485</td>\n",
       "    </tr>\n",
       "    <tr>\n",
       "      <th>4</th>\n",
       "      <td>XGBoost Regressor</td>\n",
       "      <td>-45642.588746</td>\n",
       "      <td>1304.500753</td>\n",
       "      <td>-36192.498868</td>\n",
       "      <td>1165.867673</td>\n",
       "      <td>-0.183283</td>\n",
       "      <td>0.006359</td>\n",
       "    </tr>\n",
       "    <tr>\n",
       "      <th>5</th>\n",
       "      <td>Ridge</td>\n",
       "      <td>-54118.672902</td>\n",
       "      <td>1767.990227</td>\n",
       "      <td>-42747.805457</td>\n",
       "      <td>1390.937460</td>\n",
       "      <td>-0.215625</td>\n",
       "      <td>0.007020</td>\n",
       "    </tr>\n",
       "    <tr>\n",
       "      <th>6</th>\n",
       "      <td>Lasso</td>\n",
       "      <td>-106665.318058</td>\n",
       "      <td>2125.439725</td>\n",
       "      <td>-85702.418307</td>\n",
       "      <td>2071.984533</td>\n",
       "      <td>-0.519856</td>\n",
       "      <td>0.022545</td>\n",
       "    </tr>\n",
       "  </tbody>\n",
       "</table>\n",
       "</div>"
      ],
      "text/plain": [
       "                     Model      Mean_RMSE     Std_RMSE      Mean_MAE  \\\n",
       "0        Linear Regression  -54134.697832  1770.793474 -42772.605895   \n",
       "1            KNN Regressor  -48955.858723  1451.041529 -38519.561595   \n",
       "2   DecisionTree Regressor  -45906.177118  1485.186657 -36318.483779   \n",
       "3  Random Forest Regressor  -45656.051459  1302.259428 -36160.202671   \n",
       "4        XGBoost Regressor  -45642.588746  1304.500753 -36192.498868   \n",
       "5                    Ridge  -54118.672902  1767.990227 -42747.805457   \n",
       "6                    Lasso -106665.318058  2125.439725 -85702.418307   \n",
       "\n",
       "       Std_MAE  Mean_MAPE  Std_MAPE  \n",
       "0  1384.776865  -0.215704  0.007268  \n",
       "1  1000.036974  -0.197395  0.005530  \n",
       "2  1255.091379  -0.185129  0.006862  \n",
       "3  1156.105719  -0.183095  0.006485  \n",
       "4  1165.867673  -0.183283  0.006359  \n",
       "5  1390.937460  -0.215625  0.007020  \n",
       "6  2071.984533  -0.519856  0.022545  "
      ]
     },
     "execution_count": 243,
     "metadata": {},
     "output_type": "execute_result"
    }
   ],
   "source": [
    "# Evaluasi hasil dari 5 kandidat algoritma yang digunakan\n",
    "pd.DataFrame({\n",
    "    'Model' : ['Linear Regression', 'KNN Regressor', 'DecisionTree Regressor', 'Random Forest Regressor', 'XGBoost Regressor', 'Ridge', 'Lasso'],\n",
    "    'Mean_RMSE' : nilai_mean_rmse,\n",
    "    'Std_RMSE' : nilai_std_rmse,\n",
    "    'Mean_MAE' : nilai_mean_mae,\n",
    "    'Std_MAE' : nilai_std_mae,\n",
    "    'Mean_MAPE' : nilai_mean_mape,\n",
    "    'Std_MAPE' : nilai_std_mape\n",
    "})"
   ]
  },
  {
   "cell_type": "markdown",
   "id": "b85989b6",
   "metadata": {},
   "source": [
    "Terdapat perbedaan cukup signifikan antara nilai RMSE dan MAE, di mana nilai RMSE lebih tinggi karena nilai residuals atau error-nya dikuadratkan terlebih dahulu sebelum dirata-ratakan. Hal ini menyebabkan RMSE akan memberikan 'weight' yang lebih tinggi untuk nilai error yang besar. Dengan kata lain, terdapat nilai-nilai error yang besar yang dihasilkan oleh semua algoritma yang digunakan, sehingga ada perbedaan signifikan antara nilai RMSE dan MAE.\n",
    "\n",
    "- Berdasarkan nilai RMSE, XGBoost adalah model terbaik. Sedangkan jika berdasarkan nilai MAE dan MAPE, RandomForest memiliki nilai paling rendah.\n",
    "- Selanjutnya, akan dilakukan prediksi pada test set dengan 2 benchmark model terbaik, yaitu XGBoost dan RandomForest. "
   ]
  },
  {
   "cell_type": "markdown",
   "id": "ec7c9d33",
   "metadata": {},
   "source": [
    "**Predict to Test Set with the Benchmark Model**"
   ]
  },
  {
   "cell_type": "markdown",
   "id": "12f2259b",
   "metadata": {},
   "source": [
    "Prediksi pada test set dengan menggunakan model XGBoost dan Random Forest."
   ]
  },
  {
   "cell_type": "code",
   "execution_count": 244,
   "id": "b0b747d1",
   "metadata": {},
   "outputs": [
    {
     "data": {
      "text/html": [
       "<div>\n",
       "<style scoped>\n",
       "    .dataframe tbody tr th:only-of-type {\n",
       "        vertical-align: middle;\n",
       "    }\n",
       "\n",
       "    .dataframe tbody tr th {\n",
       "        vertical-align: top;\n",
       "    }\n",
       "\n",
       "    .dataframe thead th {\n",
       "        text-align: right;\n",
       "    }\n",
       "</style>\n",
       "<table border=\"1\" class=\"dataframe\">\n",
       "  <thead>\n",
       "    <tr style=\"text-align: right;\">\n",
       "      <th></th>\n",
       "      <th>RMSE</th>\n",
       "      <th>MAE</th>\n",
       "      <th>MAPE</th>\n",
       "    </tr>\n",
       "  </thead>\n",
       "  <tbody>\n",
       "    <tr>\n",
       "      <th>XGB</th>\n",
       "      <td>45205.681161</td>\n",
       "      <td>37050.358313</td>\n",
       "      <td>0.182827</td>\n",
       "    </tr>\n",
       "    <tr>\n",
       "      <th>RandomForest</th>\n",
       "      <td>45148.615704</td>\n",
       "      <td>36981.628100</td>\n",
       "      <td>0.182463</td>\n",
       "    </tr>\n",
       "  </tbody>\n",
       "</table>\n",
       "</div>"
      ],
      "text/plain": [
       "                      RMSE           MAE      MAPE\n",
       "XGB           45205.681161  37050.358313  0.182827\n",
       "RandomForest  45148.615704  36981.628100  0.182463"
      ]
     },
     "execution_count": 244,
     "metadata": {},
     "output_type": "execute_result"
    }
   ],
   "source": [
    "# Benchmark 2 model terbaik\n",
    "models = {\n",
    "    'XGB' : XGBRegressor(random_state=2020),\n",
    "    'RandomForest' : RandomForestRegressor(random_state=2020)\n",
    "}\n",
    "\n",
    "score_rmse = []\n",
    "score_mae = []\n",
    "score_mape = []\n",
    "\n",
    "# Prediksi pada test set\n",
    "for i in models:\n",
    "    \n",
    "    model = Pipeline([\n",
    "        ('preprocessing', transformer),\n",
    "        ('scaler', scaler),\n",
    "        ('model', models[i])\n",
    "    ])\n",
    "    \n",
    "    model.fit(x_train, y_train)\n",
    "    y_pred = model.predict(x_test)\n",
    "    score_rmse.append(np.sqrt(mean_squared_error(y_test, y_pred)))\n",
    "    score_mae.append(mean_absolute_error(y_test, y_pred))\n",
    "    score_mape.append(mean_absolute_percentage_error(y_test, y_pred))\n",
    "    \n",
    "score_before_tuning = pd.DataFrame({\n",
    "    'RMSE' : score_rmse,\n",
    "    'MAE' : score_mae,\n",
    "    'MAPE' : score_mape\n",
    "}, index = models.keys())\n",
    "\n",
    "score_before_tuning"
   ]
  },
  {
   "cell_type": "markdown",
   "id": "c81f36c1",
   "metadata": {},
   "source": [
    "Ketika dilakukan prediksi pada test set, performa RandomForest secara akumulatif sedikit lebih baik. Hal ini dapat dilihat dari nilai RMSE dan MAE yang sedikit lebih rendah dari XGB.\n"
   ]
  },
  {
   "cell_type": "markdown",
   "id": "7b9cf797",
   "metadata": {},
   "source": [
    "**Hyperparameter Tuning**"
   ]
  },
  {
   "cell_type": "markdown",
   "id": "593395b1",
   "metadata": {},
   "source": [
    "Sebelum dilakukan prediksi pada test set, XGB memiliki performa yang lebih baik. Namun, setelah dilakukan prediksi pada test set ternyata RandomForest yang memiliki performa lebih baik dibanding XGB. Selanjutnya, kita akan lakukan hyperparameter tuning pada kedua model untuk melihat perubahan performa mana yang lebih baik sehingga nantinya model inilah yang akan kita gunakan."
   ]
  },
  {
   "cell_type": "markdown",
   "id": "2afe5ae1",
   "metadata": {},
   "source": [
    "**Random Forest**"
   ]
  },
  {
   "cell_type": "code",
   "execution_count": 245,
   "id": "4e8d18fb",
   "metadata": {},
   "outputs": [],
   "source": [
    "# Number of trees in random forest\n",
    "n_estimators = [int(x) for x in np.linspace(start = 100, stop = 2000, num = 10)]\n",
    "\n",
    "# Number of features to consider at every split\n",
    "max_features = ['auto', 'sqrt']\n",
    "\n",
    "# Maximum number of levels in tree\n",
    "max_depth = [int(x) for x in np.linspace(10, 110, num=11)]\n",
    "max_depth.append(None)\n",
    "\n",
    "# Minimum number of samples required to split a node\n",
    "min_samples_split = [2, 5, 10]\n",
    "\n",
    "# Minimum number of samples required to each leaf node\n",
    "min_samples_leaf = [1, 2, 4]\n",
    "\n",
    "# Method of selecting samples for training each tree\n",
    "bootstrap = [True, False]\n",
    "\n",
    "# Hyperparam space random forest\n",
    "hyperparam_space_rf = {\n",
    "    'model__n_estimators': n_estimators,\n",
    "    'model__max_features': max_features,\n",
    "    'model__max_depth': max_depth,\n",
    "    'model__min_samples_split': min_samples_split,\n",
    "    'model__min_samples_leaf': min_samples_leaf,\n",
    "    'model__bootstrap': bootstrap\n",
    "}"
   ]
  },
  {
   "cell_type": "code",
   "execution_count": 246,
   "id": "c09ff078",
   "metadata": {},
   "outputs": [],
   "source": [
    "# Benchmark model dengan hyperparameter tuning\n",
    "rf = RandomForestRegressor()\n",
    "\n",
    "# Membuat algorithm chains\n",
    "estimator_rf = Pipeline([\n",
    "    ('preprocessing', transformer),\n",
    "    ('scaler', scaler),\n",
    "    ('model', rf)\n",
    "])\n",
    "\n",
    "crossval = KFold(n_splits = 5, shuffle=True, random_state=2020)\n",
    "\n",
    "# Hyperparameter tuning\n",
    "random_rf = RandomizedSearchCV(\n",
    "    estimator_rf,\n",
    "    param_distributions = hyperparam_space_rf,\n",
    "    n_iter = 50,\n",
    "    cv = crossval,\n",
    "    scoring = ['neg_root_mean_squared_error', 'neg_mean_absolute_error', 'neg_mean_absolute_percentage_error'],\n",
    "    n_jobs = -1,\n",
    "    refit = 'neg_root_mean_squared_error',\n",
    "    random_state=2020\n",
    ")"
   ]
  },
  {
   "cell_type": "code",
   "execution_count": 247,
   "id": "2b5cdb92",
   "metadata": {},
   "outputs": [
    {
     "data": {
      "text/plain": [
       "RandomizedSearchCV(cv=KFold(n_splits=5, random_state=2020, shuffle=True),\n",
       "                   estimator=Pipeline(steps=[('preprocessing',\n",
       "                                              ColumnTransformer(remainder='passthrough',\n",
       "                                                                transformers=[('One '\n",
       "                                                                               'Hot',\n",
       "                                                                               OneHotEncoder(drop='first'),\n",
       "                                                                               ['HallwayType',\n",
       "                                                                                'TimeToSubway',\n",
       "                                                                                'SubwayStation'])])),\n",
       "                                             ('scaler', StandardScaler()),\n",
       "                                             ('model',\n",
       "                                              RandomForestRegressor())]),\n",
       "                   n_iter=50, n_jobs=-1,\n",
       "                   param...\n",
       "                                                             60, 70, 80, 90,\n",
       "                                                             100, 110, None],\n",
       "                                        'model__max_features': ['auto', 'sqrt'],\n",
       "                                        'model__min_samples_leaf': [1, 2, 4],\n",
       "                                        'model__min_samples_split': [2, 5, 10],\n",
       "                                        'model__n_estimators': [100, 311, 522,\n",
       "                                                                733, 944, 1155,\n",
       "                                                                1366, 1577,\n",
       "                                                                1788, 2000]},\n",
       "                   random_state=2020, refit='neg_root_mean_squared_error',\n",
       "                   scoring=['neg_root_mean_squared_error',\n",
       "                            'neg_mean_absolute_error',\n",
       "                            'neg_mean_absolute_percentage_error'])"
      ]
     },
     "execution_count": 247,
     "metadata": {},
     "output_type": "execute_result"
    }
   ],
   "source": [
    "# Fitting data training untuk mencari parameter terbaik\n",
    "random_rf.fit(x_train, y_train)"
   ]
  },
  {
   "cell_type": "code",
   "execution_count": 248,
   "id": "83ffc99c",
   "metadata": {},
   "outputs": [
    {
     "data": {
      "text/html": [
       "<div>\n",
       "<style scoped>\n",
       "    .dataframe tbody tr th:only-of-type {\n",
       "        vertical-align: middle;\n",
       "    }\n",
       "\n",
       "    .dataframe tbody tr th {\n",
       "        vertical-align: top;\n",
       "    }\n",
       "\n",
       "    .dataframe thead th {\n",
       "        text-align: right;\n",
       "    }\n",
       "</style>\n",
       "<table border=\"1\" class=\"dataframe\">\n",
       "  <thead>\n",
       "    <tr style=\"text-align: right;\">\n",
       "      <th></th>\n",
       "      <th>mean_fit_time</th>\n",
       "      <th>std_fit_time</th>\n",
       "      <th>mean_score_time</th>\n",
       "      <th>std_score_time</th>\n",
       "      <th>param_model__n_estimators</th>\n",
       "      <th>param_model__min_samples_split</th>\n",
       "      <th>param_model__min_samples_leaf</th>\n",
       "      <th>param_model__max_features</th>\n",
       "      <th>param_model__max_depth</th>\n",
       "      <th>param_model__bootstrap</th>\n",
       "      <th>...</th>\n",
       "      <th>std_test_neg_mean_absolute_error</th>\n",
       "      <th>rank_test_neg_mean_absolute_error</th>\n",
       "      <th>split0_test_neg_mean_absolute_percentage_error</th>\n",
       "      <th>split1_test_neg_mean_absolute_percentage_error</th>\n",
       "      <th>split2_test_neg_mean_absolute_percentage_error</th>\n",
       "      <th>split3_test_neg_mean_absolute_percentage_error</th>\n",
       "      <th>split4_test_neg_mean_absolute_percentage_error</th>\n",
       "      <th>mean_test_neg_mean_absolute_percentage_error</th>\n",
       "      <th>std_test_neg_mean_absolute_percentage_error</th>\n",
       "      <th>rank_test_neg_mean_absolute_percentage_error</th>\n",
       "    </tr>\n",
       "  </thead>\n",
       "  <tbody>\n",
       "    <tr>\n",
       "      <th>24</th>\n",
       "      <td>3.795737</td>\n",
       "      <td>0.109443</td>\n",
       "      <td>0.278409</td>\n",
       "      <td>0.010360</td>\n",
       "      <td>1577</td>\n",
       "      <td>5</td>\n",
       "      <td>2</td>\n",
       "      <td>sqrt</td>\n",
       "      <td>10</td>\n",
       "      <td>False</td>\n",
       "      <td>...</td>\n",
       "      <td>1182.576267</td>\n",
       "      <td>1</td>\n",
       "      <td>-0.181141</td>\n",
       "      <td>-0.193497</td>\n",
       "      <td>-0.201582</td>\n",
       "      <td>-0.188013</td>\n",
       "      <td>-0.190533</td>\n",
       "      <td>-0.190953</td>\n",
       "      <td>0.006701</td>\n",
       "      <td>7</td>\n",
       "    </tr>\n",
       "    <tr>\n",
       "      <th>13</th>\n",
       "      <td>4.786738</td>\n",
       "      <td>0.094903</td>\n",
       "      <td>0.308710</td>\n",
       "      <td>0.009112</td>\n",
       "      <td>1788</td>\n",
       "      <td>5</td>\n",
       "      <td>1</td>\n",
       "      <td>sqrt</td>\n",
       "      <td>None</td>\n",
       "      <td>True</td>\n",
       "      <td>...</td>\n",
       "      <td>1169.141313</td>\n",
       "      <td>2</td>\n",
       "      <td>-0.180716</td>\n",
       "      <td>-0.193449</td>\n",
       "      <td>-0.200925</td>\n",
       "      <td>-0.188318</td>\n",
       "      <td>-0.190489</td>\n",
       "      <td>-0.190779</td>\n",
       "      <td>0.006595</td>\n",
       "      <td>5</td>\n",
       "    </tr>\n",
       "    <tr>\n",
       "      <th>18</th>\n",
       "      <td>4.376162</td>\n",
       "      <td>0.084914</td>\n",
       "      <td>0.163628</td>\n",
       "      <td>0.003778</td>\n",
       "      <td>944</td>\n",
       "      <td>2</td>\n",
       "      <td>2</td>\n",
       "      <td>auto</td>\n",
       "      <td>50</td>\n",
       "      <td>False</td>\n",
       "      <td>...</td>\n",
       "      <td>1198.896754</td>\n",
       "      <td>5</td>\n",
       "      <td>-0.180960</td>\n",
       "      <td>-0.192309</td>\n",
       "      <td>-0.202058</td>\n",
       "      <td>-0.186922</td>\n",
       "      <td>-0.188158</td>\n",
       "      <td>-0.190081</td>\n",
       "      <td>0.007004</td>\n",
       "      <td>3</td>\n",
       "    </tr>\n",
       "    <tr>\n",
       "      <th>2</th>\n",
       "      <td>7.773125</td>\n",
       "      <td>0.176337</td>\n",
       "      <td>0.295236</td>\n",
       "      <td>0.014610</td>\n",
       "      <td>1788</td>\n",
       "      <td>10</td>\n",
       "      <td>2</td>\n",
       "      <td>auto</td>\n",
       "      <td>90</td>\n",
       "      <td>False</td>\n",
       "      <td>...</td>\n",
       "      <td>1139.354308</td>\n",
       "      <td>14</td>\n",
       "      <td>-0.181297</td>\n",
       "      <td>-0.192121</td>\n",
       "      <td>-0.201561</td>\n",
       "      <td>-0.187005</td>\n",
       "      <td>-0.188053</td>\n",
       "      <td>-0.190008</td>\n",
       "      <td>0.006733</td>\n",
       "      <td>1</td>\n",
       "    </tr>\n",
       "    <tr>\n",
       "      <th>36</th>\n",
       "      <td>9.382579</td>\n",
       "      <td>0.304779</td>\n",
       "      <td>0.347407</td>\n",
       "      <td>0.009208</td>\n",
       "      <td>2000</td>\n",
       "      <td>10</td>\n",
       "      <td>2</td>\n",
       "      <td>auto</td>\n",
       "      <td>100</td>\n",
       "      <td>False</td>\n",
       "      <td>...</td>\n",
       "      <td>1138.830734</td>\n",
       "      <td>15</td>\n",
       "      <td>-0.181303</td>\n",
       "      <td>-0.192121</td>\n",
       "      <td>-0.201561</td>\n",
       "      <td>-0.187005</td>\n",
       "      <td>-0.188053</td>\n",
       "      <td>-0.190009</td>\n",
       "      <td>0.006731</td>\n",
       "      <td>2</td>\n",
       "    </tr>\n",
       "  </tbody>\n",
       "</table>\n",
       "<p>5 rows × 35 columns</p>\n",
       "</div>"
      ],
      "text/plain": [
       "    mean_fit_time  std_fit_time  mean_score_time  std_score_time  \\\n",
       "24       3.795737      0.109443         0.278409        0.010360   \n",
       "13       4.786738      0.094903         0.308710        0.009112   \n",
       "18       4.376162      0.084914         0.163628        0.003778   \n",
       "2        7.773125      0.176337         0.295236        0.014610   \n",
       "36       9.382579      0.304779         0.347407        0.009208   \n",
       "\n",
       "   param_model__n_estimators param_model__min_samples_split  \\\n",
       "24                      1577                              5   \n",
       "13                      1788                              5   \n",
       "18                       944                              2   \n",
       "2                       1788                             10   \n",
       "36                      2000                             10   \n",
       "\n",
       "   param_model__min_samples_leaf param_model__max_features  \\\n",
       "24                             2                      sqrt   \n",
       "13                             1                      sqrt   \n",
       "18                             2                      auto   \n",
       "2                              2                      auto   \n",
       "36                             2                      auto   \n",
       "\n",
       "   param_model__max_depth param_model__bootstrap  ...  \\\n",
       "24                     10                  False  ...   \n",
       "13                   None                   True  ...   \n",
       "18                     50                  False  ...   \n",
       "2                      90                  False  ...   \n",
       "36                    100                  False  ...   \n",
       "\n",
       "   std_test_neg_mean_absolute_error  rank_test_neg_mean_absolute_error  \\\n",
       "24                      1182.576267                                  1   \n",
       "13                      1169.141313                                  2   \n",
       "18                      1198.896754                                  5   \n",
       "2                       1139.354308                                 14   \n",
       "36                      1138.830734                                 15   \n",
       "\n",
       "    split0_test_neg_mean_absolute_percentage_error  \\\n",
       "24                                       -0.181141   \n",
       "13                                       -0.180716   \n",
       "18                                       -0.180960   \n",
       "2                                        -0.181297   \n",
       "36                                       -0.181303   \n",
       "\n",
       "    split1_test_neg_mean_absolute_percentage_error  \\\n",
       "24                                       -0.193497   \n",
       "13                                       -0.193449   \n",
       "18                                       -0.192309   \n",
       "2                                        -0.192121   \n",
       "36                                       -0.192121   \n",
       "\n",
       "    split2_test_neg_mean_absolute_percentage_error  \\\n",
       "24                                       -0.201582   \n",
       "13                                       -0.200925   \n",
       "18                                       -0.202058   \n",
       "2                                        -0.201561   \n",
       "36                                       -0.201561   \n",
       "\n",
       "    split3_test_neg_mean_absolute_percentage_error  \\\n",
       "24                                       -0.188013   \n",
       "13                                       -0.188318   \n",
       "18                                       -0.186922   \n",
       "2                                        -0.187005   \n",
       "36                                       -0.187005   \n",
       "\n",
       "    split4_test_neg_mean_absolute_percentage_error  \\\n",
       "24                                       -0.190533   \n",
       "13                                       -0.190489   \n",
       "18                                       -0.188158   \n",
       "2                                        -0.188053   \n",
       "36                                       -0.188053   \n",
       "\n",
       "    mean_test_neg_mean_absolute_percentage_error  \\\n",
       "24                                     -0.190953   \n",
       "13                                     -0.190779   \n",
       "18                                     -0.190081   \n",
       "2                                      -0.190008   \n",
       "36                                     -0.190009   \n",
       "\n",
       "    std_test_neg_mean_absolute_percentage_error  \\\n",
       "24                                     0.006701   \n",
       "13                                     0.006595   \n",
       "18                                     0.007004   \n",
       "2                                      0.006733   \n",
       "36                                     0.006731   \n",
       "\n",
       "    rank_test_neg_mean_absolute_percentage_error  \n",
       "24                                             7  \n",
       "13                                             5  \n",
       "18                                             3  \n",
       "2                                              1  \n",
       "36                                             2  \n",
       "\n",
       "[5 rows x 35 columns]"
      ]
     },
     "execution_count": 248,
     "metadata": {},
     "output_type": "execute_result"
    }
   ],
   "source": [
    "# Melihat hasil tuning dalam bentuk dataframe. Diurutkan berdasarkan RMSE, MAE & MAPE\n",
    "pd.DataFrame(random_rf.cv_results_).sort_values(by=['rank_test_neg_root_mean_squared_error', 'rank_test_neg_mean_absolute_error', 'rank_test_neg_mean_absolute_percentage_error']).head()"
   ]
  },
  {
   "cell_type": "code",
   "execution_count": 249,
   "id": "39b1918c",
   "metadata": {},
   "outputs": [
    {
     "name": "stdout",
     "output_type": "stream",
     "text": [
      "Random Forest Regressor\n",
      "Best_score: -45431.70419409642\n",
      "Best_params: {'model__n_estimators': 1577, 'model__min_samples_split': 5, 'model__min_samples_leaf': 2, 'model__max_features': 'sqrt', 'model__max_depth': 10, 'model__bootstrap': False}\n"
     ]
    }
   ],
   "source": [
    "# Cek skor dan params terbaik\n",
    "print('Random Forest Regressor')\n",
    "print('Best_score:', random_rf.best_score_)\n",
    "print('Best_params:', random_rf.best_params_)"
   ]
  },
  {
   "cell_type": "markdown",
   "id": "a0e7124e",
   "metadata": {},
   "source": [
    "**Predict to Test Set with the Tuned Model**"
   ]
  },
  {
   "cell_type": "markdown",
   "id": "2d673190",
   "metadata": {},
   "source": [
    "Melakukan prediksi pada test set dengan model Random Forest dan hyperparameter terpilih."
   ]
  },
  {
   "cell_type": "code",
   "execution_count": 250,
   "id": "d026225d",
   "metadata": {},
   "outputs": [
    {
     "data": {
      "text/html": [
       "<div>\n",
       "<style scoped>\n",
       "    .dataframe tbody tr th:only-of-type {\n",
       "        vertical-align: middle;\n",
       "    }\n",
       "\n",
       "    .dataframe tbody tr th {\n",
       "        vertical-align: top;\n",
       "    }\n",
       "\n",
       "    .dataframe thead th {\n",
       "        text-align: right;\n",
       "    }\n",
       "</style>\n",
       "<table border=\"1\" class=\"dataframe\">\n",
       "  <thead>\n",
       "    <tr style=\"text-align: right;\">\n",
       "      <th></th>\n",
       "      <th>RMSE</th>\n",
       "      <th>MAE</th>\n",
       "      <th>MAPE</th>\n",
       "    </tr>\n",
       "  </thead>\n",
       "  <tbody>\n",
       "    <tr>\n",
       "      <th>Random Forest</th>\n",
       "      <td>45072.539143</td>\n",
       "      <td>37022.324772</td>\n",
       "      <td>0.182619</td>\n",
       "    </tr>\n",
       "  </tbody>\n",
       "</table>\n",
       "</div>"
      ],
      "text/plain": [
       "                       RMSE           MAE      MAPE\n",
       "Random Forest  45072.539143  37022.324772  0.182619"
      ]
     },
     "execution_count": 250,
     "metadata": {},
     "output_type": "execute_result"
    }
   ],
   "source": [
    "# Model Random Forest\n",
    "model_rf = {'Random Forest' : RandomForestRegressor(random_state=2020)}\n",
    "\n",
    "# Define model terhadap estimator terbaik\n",
    "rf_tuning = random_rf.best_estimator_\n",
    "\n",
    "# Fitting model\n",
    "rf_tuning.fit(x_train, y_train)\n",
    "\n",
    "# Predict test set\n",
    "y_pred_rf_tuning = rf_tuning.predict(x_test)\n",
    "\n",
    "# Simpan nilai metrics RMSE, MAE, dan MAPE setelah tuning\n",
    "rmse_rf_tuning = np.sqrt(mean_squared_error(y_test, y_pred_rf_tuning))\n",
    "mae_rf_tuning = mean_absolute_error(y_test, y_pred_rf_tuning)\n",
    "mape_rf_tuning = mean_absolute_percentage_error(y_test, y_pred_rf_tuning)\n",
    "\n",
    "score_after_tuning_rf = pd.DataFrame({'RMSE' : rmse_rf_tuning, 'MAE' : mae_rf_tuning, 'MAPE' : mape_rf_tuning}, index=model_rf.keys())\n",
    "score_after_tuning_rf"
   ]
  },
  {
   "cell_type": "markdown",
   "id": "0aca85f4",
   "metadata": {},
   "source": [
    "**Performance Comparison**"
   ]
  },
  {
   "cell_type": "markdown",
   "id": "144dcc1d",
   "metadata": {},
   "source": [
    "Perbandingan performa model Random Forest sebelum dan sesudah dilakukan hyperparameter tuning."
   ]
  },
  {
   "cell_type": "code",
   "execution_count": 251,
   "id": "8a29fe45",
   "metadata": {},
   "outputs": [
    {
     "name": "stdout",
     "output_type": "stream",
     "text": [
      "BEFORE TUNING:\n"
     ]
    },
    {
     "data": {
      "text/html": [
       "<div>\n",
       "<style scoped>\n",
       "    .dataframe tbody tr th:only-of-type {\n",
       "        vertical-align: middle;\n",
       "    }\n",
       "\n",
       "    .dataframe tbody tr th {\n",
       "        vertical-align: top;\n",
       "    }\n",
       "\n",
       "    .dataframe thead th {\n",
       "        text-align: right;\n",
       "    }\n",
       "</style>\n",
       "<table border=\"1\" class=\"dataframe\">\n",
       "  <thead>\n",
       "    <tr style=\"text-align: right;\">\n",
       "      <th></th>\n",
       "      <th>RMSE</th>\n",
       "      <th>MAE</th>\n",
       "      <th>MAPE</th>\n",
       "    </tr>\n",
       "  </thead>\n",
       "  <tbody>\n",
       "    <tr>\n",
       "      <th>RandomForest</th>\n",
       "      <td>45148.615704</td>\n",
       "      <td>36981.6281</td>\n",
       "      <td>0.182463</td>\n",
       "    </tr>\n",
       "  </tbody>\n",
       "</table>\n",
       "</div>"
      ],
      "text/plain": [
       "                      RMSE         MAE      MAPE\n",
       "RandomForest  45148.615704  36981.6281  0.182463"
      ]
     },
     "metadata": {},
     "output_type": "display_data"
    },
    {
     "name": "stdout",
     "output_type": "stream",
     "text": [
      "AFTER TUNING:\n"
     ]
    },
    {
     "data": {
      "text/html": [
       "<div>\n",
       "<style scoped>\n",
       "    .dataframe tbody tr th:only-of-type {\n",
       "        vertical-align: middle;\n",
       "    }\n",
       "\n",
       "    .dataframe tbody tr th {\n",
       "        vertical-align: top;\n",
       "    }\n",
       "\n",
       "    .dataframe thead th {\n",
       "        text-align: right;\n",
       "    }\n",
       "</style>\n",
       "<table border=\"1\" class=\"dataframe\">\n",
       "  <thead>\n",
       "    <tr style=\"text-align: right;\">\n",
       "      <th></th>\n",
       "      <th>RMSE</th>\n",
       "      <th>MAE</th>\n",
       "      <th>MAPE</th>\n",
       "    </tr>\n",
       "  </thead>\n",
       "  <tbody>\n",
       "    <tr>\n",
       "      <th>Random Forest</th>\n",
       "      <td>45072.539143</td>\n",
       "      <td>37022.324772</td>\n",
       "      <td>0.182619</td>\n",
       "    </tr>\n",
       "  </tbody>\n",
       "</table>\n",
       "</div>"
      ],
      "text/plain": [
       "                       RMSE           MAE      MAPE\n",
       "Random Forest  45072.539143  37022.324772  0.182619"
      ]
     },
     "metadata": {},
     "output_type": "display_data"
    }
   ],
   "source": [
    "# Sebelum dan sesudah hyperparameter tuning\n",
    "print('BEFORE TUNING:')\n",
    "display(pd.DataFrame(score_before_tuning.loc['RandomForest']).T)\n",
    "\n",
    "print('AFTER TUNING:')\n",
    "display(score_after_tuning_rf)"
   ]
  },
  {
   "cell_type": "markdown",
   "id": "6e32dd4d",
   "metadata": {},
   "source": [
    "Model mengalami peningkatan (nilai RMSE berkurang) tetapi juga mengalami penurunan (nilai MAE & MAPE bertambah) setelah dilakukannya hyperparameter tuning."
   ]
  },
  {
   "cell_type": "markdown",
   "id": "7f5ccab1",
   "metadata": {},
   "source": [
    "**XGBoost**"
   ]
  },
  {
   "cell_type": "code",
   "execution_count": 252,
   "id": "0f4312e7",
   "metadata": {},
   "outputs": [],
   "source": [
    "# Kedalaman pohon\n",
    "max_depth = list(np.arange(1, 11))\n",
    "\n",
    "# Learning rate\n",
    "learning_rate = list(np.arange(1, 100)/100)\n",
    "\n",
    "# Jumlah pohon\n",
    "n_estimators = list(np.arange(100, 201))\n",
    "\n",
    "# Jumlah baris tiap pohon (% dari total baris train set)\n",
    "subsample = list(np.arange(2, 10)/10)\n",
    "\n",
    "# Gamma (min_impurity_decrease)\n",
    "gamma = list(np.arange(1, 11)) # Semakin besar nilainya, semakin konservatif/simpel modelnya\n",
    "\n",
    "# Jumlah feature yang digunakan untuk tiap pohon (% dari total kolom train set)\n",
    "colsample_bytree = list(np.arange(1, 10)/10)\n",
    "\n",
    "# Alpha (regularization)\n",
    "reg_alpha = list(np.logspace(-3, 1, 10)) # Semakin besar nilainya, semakin konservatif/simpel modelnya\n",
    "\n",
    "\n",
    "# Hyperparam space XGboost\n",
    "hyperparam_space_xgb = {\n",
    "    'model__max_depth': max_depth, \n",
    "    'model__learning_rate': learning_rate,\n",
    "    'model__n_estimators': n_estimators,\n",
    "    'model__subsample': subsample,\n",
    "    'model__gamma': gamma,\n",
    "    'model__colsample_bytree': colsample_bytree,\n",
    "    'model__reg_alpha': reg_alpha\n",
    "}"
   ]
  },
  {
   "cell_type": "code",
   "execution_count": 253,
   "id": "3bddd6f3",
   "metadata": {},
   "outputs": [],
   "source": [
    "# Benchmark model dengan hyperparameter tuning\n",
    "xgb = XGBRegressor(random_state=1, verbosity=0)\n",
    "\n",
    "# Membuat algorithm chains\n",
    "estimator_xgb = Pipeline([\n",
    "        ('preprocessing', transformer),\n",
    "        ('scaler', scaler),\n",
    "        ('model', xgb)\n",
    "        ])\n",
    "\n",
    "crossval = KFold(n_splits=5, shuffle=True, random_state=2020)\n",
    "\n",
    "# Hyperparameter tuning\n",
    "random_xgb = RandomizedSearchCV(\n",
    "    estimator_xgb, \n",
    "    param_distributions = hyperparam_space_xgb,\n",
    "    n_iter = 50,\n",
    "    cv = crossval, \n",
    "    scoring = ['neg_root_mean_squared_error', 'neg_mean_absolute_error', 'neg_mean_absolute_percentage_error'], \n",
    "    n_jobs = -1,\n",
    "    refit = 'neg_root_mean_squared_error', # Hanya bisa memilih salah stau metric untuk optimisasi\n",
    "    random_state = 1  \n",
    ")"
   ]
  },
  {
   "cell_type": "code",
   "execution_count": 254,
   "id": "ede037bd",
   "metadata": {},
   "outputs": [
    {
     "data": {
      "text/plain": [
       "RandomizedSearchCV(cv=KFold(n_splits=5, random_state=2020, shuffle=True),\n",
       "                   estimator=Pipeline(steps=[('preprocessing',\n",
       "                                              ColumnTransformer(remainder='passthrough',\n",
       "                                                                transformers=[('One '\n",
       "                                                                               'Hot',\n",
       "                                                                               OneHotEncoder(drop='first'),\n",
       "                                                                               ['HallwayType',\n",
       "                                                                                'TimeToSubway',\n",
       "                                                                                'SubwayStation'])])),\n",
       "                                             ('scaler', StandardScaler()),\n",
       "                                             ('model',\n",
       "                                              XGBRegressor(base_score=None,\n",
       "                                                           booster=None,\n",
       "                                                           callbacks=...\n",
       "                                                             0.007742636826811269,\n",
       "                                                             0.021544346900318832,\n",
       "                                                             0.05994842503189409,\n",
       "                                                             0.1668100537200059,\n",
       "                                                             0.46415888336127775,\n",
       "                                                             1.2915496650148828,\n",
       "                                                             3.593813663804626,\n",
       "                                                             10.0],\n",
       "                                        'model__subsample': [0.2, 0.3, 0.4, 0.5,\n",
       "                                                             0.6, 0.7, 0.8,\n",
       "                                                             0.9]},\n",
       "                   random_state=1, refit='neg_root_mean_squared_error',\n",
       "                   scoring=['neg_root_mean_squared_error',\n",
       "                            'neg_mean_absolute_error',\n",
       "                            'neg_mean_absolute_percentage_error'])"
      ]
     },
     "execution_count": 254,
     "metadata": {},
     "output_type": "execute_result"
    }
   ],
   "source": [
    "# Fitting data training untuk mencari parameter terbaik\n",
    "random_xgb.fit(x_train, y_train)"
   ]
  },
  {
   "cell_type": "code",
   "execution_count": 255,
   "id": "05bf10fb",
   "metadata": {},
   "outputs": [
    {
     "data": {
      "text/html": [
       "<div>\n",
       "<style scoped>\n",
       "    .dataframe tbody tr th:only-of-type {\n",
       "        vertical-align: middle;\n",
       "    }\n",
       "\n",
       "    .dataframe tbody tr th {\n",
       "        vertical-align: top;\n",
       "    }\n",
       "\n",
       "    .dataframe thead th {\n",
       "        text-align: right;\n",
       "    }\n",
       "</style>\n",
       "<table border=\"1\" class=\"dataframe\">\n",
       "  <thead>\n",
       "    <tr style=\"text-align: right;\">\n",
       "      <th></th>\n",
       "      <th>mean_fit_time</th>\n",
       "      <th>std_fit_time</th>\n",
       "      <th>mean_score_time</th>\n",
       "      <th>std_score_time</th>\n",
       "      <th>param_model__subsample</th>\n",
       "      <th>param_model__reg_alpha</th>\n",
       "      <th>param_model__n_estimators</th>\n",
       "      <th>param_model__max_depth</th>\n",
       "      <th>param_model__learning_rate</th>\n",
       "      <th>param_model__gamma</th>\n",
       "      <th>...</th>\n",
       "      <th>std_test_neg_mean_absolute_error</th>\n",
       "      <th>rank_test_neg_mean_absolute_error</th>\n",
       "      <th>split0_test_neg_mean_absolute_percentage_error</th>\n",
       "      <th>split1_test_neg_mean_absolute_percentage_error</th>\n",
       "      <th>split2_test_neg_mean_absolute_percentage_error</th>\n",
       "      <th>split3_test_neg_mean_absolute_percentage_error</th>\n",
       "      <th>split4_test_neg_mean_absolute_percentage_error</th>\n",
       "      <th>mean_test_neg_mean_absolute_percentage_error</th>\n",
       "      <th>std_test_neg_mean_absolute_percentage_error</th>\n",
       "      <th>rank_test_neg_mean_absolute_percentage_error</th>\n",
       "    </tr>\n",
       "  </thead>\n",
       "  <tbody>\n",
       "    <tr>\n",
       "      <th>22</th>\n",
       "      <td>0.357193</td>\n",
       "      <td>0.024128</td>\n",
       "      <td>0.011054</td>\n",
       "      <td>0.000731</td>\n",
       "      <td>0.7</td>\n",
       "      <td>0.002783</td>\n",
       "      <td>155</td>\n",
       "      <td>4</td>\n",
       "      <td>0.25</td>\n",
       "      <td>8</td>\n",
       "      <td>...</td>\n",
       "      <td>1112.069217</td>\n",
       "      <td>1</td>\n",
       "      <td>-0.181733</td>\n",
       "      <td>-0.193783</td>\n",
       "      <td>-0.199969</td>\n",
       "      <td>-0.186536</td>\n",
       "      <td>-0.187381</td>\n",
       "      <td>-0.189880</td>\n",
       "      <td>0.006337</td>\n",
       "      <td>1</td>\n",
       "    </tr>\n",
       "    <tr>\n",
       "      <th>17</th>\n",
       "      <td>0.835558</td>\n",
       "      <td>0.049165</td>\n",
       "      <td>0.018469</td>\n",
       "      <td>0.009122</td>\n",
       "      <td>0.6</td>\n",
       "      <td>0.001</td>\n",
       "      <td>190</td>\n",
       "      <td>5</td>\n",
       "      <td>0.04</td>\n",
       "      <td>9</td>\n",
       "      <td>...</td>\n",
       "      <td>1220.759338</td>\n",
       "      <td>2</td>\n",
       "      <td>-0.180662</td>\n",
       "      <td>-0.193522</td>\n",
       "      <td>-0.201163</td>\n",
       "      <td>-0.187058</td>\n",
       "      <td>-0.188609</td>\n",
       "      <td>-0.190203</td>\n",
       "      <td>0.006850</td>\n",
       "      <td>3</td>\n",
       "    </tr>\n",
       "    <tr>\n",
       "      <th>23</th>\n",
       "      <td>0.310770</td>\n",
       "      <td>0.021414</td>\n",
       "      <td>0.014566</td>\n",
       "      <td>0.005077</td>\n",
       "      <td>0.9</td>\n",
       "      <td>3.593814</td>\n",
       "      <td>153</td>\n",
       "      <td>4</td>\n",
       "      <td>0.33</td>\n",
       "      <td>9</td>\n",
       "      <td>...</td>\n",
       "      <td>1175.956911</td>\n",
       "      <td>6</td>\n",
       "      <td>-0.181532</td>\n",
       "      <td>-0.194187</td>\n",
       "      <td>-0.201831</td>\n",
       "      <td>-0.187785</td>\n",
       "      <td>-0.189321</td>\n",
       "      <td>-0.190931</td>\n",
       "      <td>0.006786</td>\n",
       "      <td>10</td>\n",
       "    </tr>\n",
       "    <tr>\n",
       "      <th>7</th>\n",
       "      <td>0.619061</td>\n",
       "      <td>0.061551</td>\n",
       "      <td>0.015829</td>\n",
       "      <td>0.008711</td>\n",
       "      <td>0.9</td>\n",
       "      <td>0.059948</td>\n",
       "      <td>119</td>\n",
       "      <td>8</td>\n",
       "      <td>0.05</td>\n",
       "      <td>5</td>\n",
       "      <td>...</td>\n",
       "      <td>1252.466149</td>\n",
       "      <td>3</td>\n",
       "      <td>-0.179596</td>\n",
       "      <td>-0.192235</td>\n",
       "      <td>-0.200915</td>\n",
       "      <td>-0.186885</td>\n",
       "      <td>-0.190078</td>\n",
       "      <td>-0.189942</td>\n",
       "      <td>0.006958</td>\n",
       "      <td>2</td>\n",
       "    </tr>\n",
       "    <tr>\n",
       "      <th>3</th>\n",
       "      <td>0.522756</td>\n",
       "      <td>0.051119</td>\n",
       "      <td>0.012611</td>\n",
       "      <td>0.000474</td>\n",
       "      <td>0.5</td>\n",
       "      <td>0.021544</td>\n",
       "      <td>166</td>\n",
       "      <td>8</td>\n",
       "      <td>0.1</td>\n",
       "      <td>9</td>\n",
       "      <td>...</td>\n",
       "      <td>1232.000730</td>\n",
       "      <td>4</td>\n",
       "      <td>-0.181381</td>\n",
       "      <td>-0.196109</td>\n",
       "      <td>-0.201282</td>\n",
       "      <td>-0.186948</td>\n",
       "      <td>-0.188923</td>\n",
       "      <td>-0.190928</td>\n",
       "      <td>0.007001</td>\n",
       "      <td>9</td>\n",
       "    </tr>\n",
       "  </tbody>\n",
       "</table>\n",
       "<p>5 rows × 36 columns</p>\n",
       "</div>"
      ],
      "text/plain": [
       "    mean_fit_time  std_fit_time  mean_score_time  std_score_time  \\\n",
       "22       0.357193      0.024128         0.011054        0.000731   \n",
       "17       0.835558      0.049165         0.018469        0.009122   \n",
       "23       0.310770      0.021414         0.014566        0.005077   \n",
       "7        0.619061      0.061551         0.015829        0.008711   \n",
       "3        0.522756      0.051119         0.012611        0.000474   \n",
       "\n",
       "   param_model__subsample param_model__reg_alpha param_model__n_estimators  \\\n",
       "22                    0.7               0.002783                       155   \n",
       "17                    0.6                  0.001                       190   \n",
       "23                    0.9               3.593814                       153   \n",
       "7                     0.9               0.059948                       119   \n",
       "3                     0.5               0.021544                       166   \n",
       "\n",
       "   param_model__max_depth param_model__learning_rate param_model__gamma  ...  \\\n",
       "22                      4                       0.25                  8  ...   \n",
       "17                      5                       0.04                  9  ...   \n",
       "23                      4                       0.33                  9  ...   \n",
       "7                       8                       0.05                  5  ...   \n",
       "3                       8                        0.1                  9  ...   \n",
       "\n",
       "   std_test_neg_mean_absolute_error rank_test_neg_mean_absolute_error  \\\n",
       "22                      1112.069217                                 1   \n",
       "17                      1220.759338                                 2   \n",
       "23                      1175.956911                                 6   \n",
       "7                       1252.466149                                 3   \n",
       "3                       1232.000730                                 4   \n",
       "\n",
       "    split0_test_neg_mean_absolute_percentage_error  \\\n",
       "22                                       -0.181733   \n",
       "17                                       -0.180662   \n",
       "23                                       -0.181532   \n",
       "7                                        -0.179596   \n",
       "3                                        -0.181381   \n",
       "\n",
       "    split1_test_neg_mean_absolute_percentage_error  \\\n",
       "22                                       -0.193783   \n",
       "17                                       -0.193522   \n",
       "23                                       -0.194187   \n",
       "7                                        -0.192235   \n",
       "3                                        -0.196109   \n",
       "\n",
       "    split2_test_neg_mean_absolute_percentage_error  \\\n",
       "22                                       -0.199969   \n",
       "17                                       -0.201163   \n",
       "23                                       -0.201831   \n",
       "7                                        -0.200915   \n",
       "3                                        -0.201282   \n",
       "\n",
       "    split3_test_neg_mean_absolute_percentage_error  \\\n",
       "22                                       -0.186536   \n",
       "17                                       -0.187058   \n",
       "23                                       -0.187785   \n",
       "7                                        -0.186885   \n",
       "3                                        -0.186948   \n",
       "\n",
       "    split4_test_neg_mean_absolute_percentage_error  \\\n",
       "22                                       -0.187381   \n",
       "17                                       -0.188609   \n",
       "23                                       -0.189321   \n",
       "7                                        -0.190078   \n",
       "3                                        -0.188923   \n",
       "\n",
       "    mean_test_neg_mean_absolute_percentage_error  \\\n",
       "22                                     -0.189880   \n",
       "17                                     -0.190203   \n",
       "23                                     -0.190931   \n",
       "7                                      -0.189942   \n",
       "3                                      -0.190928   \n",
       "\n",
       "    std_test_neg_mean_absolute_percentage_error  \\\n",
       "22                                     0.006337   \n",
       "17                                     0.006850   \n",
       "23                                     0.006786   \n",
       "7                                      0.006958   \n",
       "3                                      0.007001   \n",
       "\n",
       "    rank_test_neg_mean_absolute_percentage_error  \n",
       "22                                             1  \n",
       "17                                             3  \n",
       "23                                            10  \n",
       "7                                              2  \n",
       "3                                              9  \n",
       "\n",
       "[5 rows x 36 columns]"
      ]
     },
     "execution_count": 255,
     "metadata": {},
     "output_type": "execute_result"
    }
   ],
   "source": [
    "# Melihat hasil tuning dalam bentuk dataframe. Diurutkan berdasarkan RMSE, MAE & MAPE\n",
    "pd.DataFrame(random_xgb.cv_results_).sort_values(by=['rank_test_neg_root_mean_squared_error', 'rank_test_neg_mean_absolute_error', 'rank_test_neg_mean_absolute_percentage_error']).head()"
   ]
  },
  {
   "cell_type": "code",
   "execution_count": 256,
   "id": "09289351",
   "metadata": {},
   "outputs": [
    {
     "name": "stdout",
     "output_type": "stream",
     "text": [
      "XGBoost\n",
      "Best_score: -45233.61721558486\n",
      "Best_params: {'model__subsample': 0.7, 'model__reg_alpha': 0.0027825594022071257, 'model__n_estimators': 155, 'model__max_depth': 4, 'model__learning_rate': 0.25, 'model__gamma': 8, 'model__colsample_bytree': 0.3}\n"
     ]
    }
   ],
   "source": [
    "# Cek skor dan params terbaik\n",
    "print('XGBoost')\n",
    "print('Best_score:', random_xgb.best_score_)\n",
    "print('Best_params:', random_xgb.best_params_)"
   ]
  },
  {
   "cell_type": "markdown",
   "id": "89e04874",
   "metadata": {},
   "source": [
    "**Predict to Test Set with the Tuned Model**"
   ]
  },
  {
   "cell_type": "markdown",
   "id": "76bd0d73",
   "metadata": {},
   "source": [
    "Melakukan prediksi pada test set dengan menggunakan model XGBoost dan hyperparameter terpilih."
   ]
  },
  {
   "cell_type": "code",
   "execution_count": 257,
   "id": "4372da8e",
   "metadata": {},
   "outputs": [
    {
     "data": {
      "text/html": [
       "<div>\n",
       "<style scoped>\n",
       "    .dataframe tbody tr th:only-of-type {\n",
       "        vertical-align: middle;\n",
       "    }\n",
       "\n",
       "    .dataframe tbody tr th {\n",
       "        vertical-align: top;\n",
       "    }\n",
       "\n",
       "    .dataframe thead th {\n",
       "        text-align: right;\n",
       "    }\n",
       "</style>\n",
       "<table border=\"1\" class=\"dataframe\">\n",
       "  <thead>\n",
       "    <tr style=\"text-align: right;\">\n",
       "      <th></th>\n",
       "      <th>RMSE</th>\n",
       "      <th>MAE</th>\n",
       "      <th>MAPE</th>\n",
       "    </tr>\n",
       "  </thead>\n",
       "  <tbody>\n",
       "    <tr>\n",
       "      <th>XGB</th>\n",
       "      <td>44919.84972</td>\n",
       "      <td>36851.398874</td>\n",
       "      <td>0.181878</td>\n",
       "    </tr>\n",
       "  </tbody>\n",
       "</table>\n",
       "</div>"
      ],
      "text/plain": [
       "            RMSE           MAE      MAPE\n",
       "XGB  44919.84972  36851.398874  0.181878"
      ]
     },
     "execution_count": 257,
     "metadata": {},
     "output_type": "execute_result"
    }
   ],
   "source": [
    "# Model XGBoost\n",
    "model_xgb = {'XGB' : XGBRegressor(random_state=2020)}\n",
    "\n",
    "# Define model terhadap estimator terbaik\n",
    "xgb_tuning = random_xgb.best_estimator_\n",
    "\n",
    "# Fitting model\n",
    "xgb_tuning.fit(x_train, y_train)\n",
    "\n",
    "# Predict test set\n",
    "y_pred_xgb_tuning = xgb_tuning.predict(x_test)\n",
    "\n",
    "# Simpan nilai metrics RMSE, MAE, dan MAPE setelah tuning\n",
    "rmse_xgb_tuning = np.sqrt(mean_squared_error(y_test, y_pred_xgb_tuning))\n",
    "mae_xgb_tuning = mean_absolute_error(y_test, y_pred_xgb_tuning)\n",
    "mape_xgb_tuning = mean_absolute_percentage_error(y_test, y_pred_xgb_tuning)\n",
    "\n",
    "score_after_tuning_xgb = pd.DataFrame({'RMSE' : rmse_xgb_tuning, 'MAE' : mae_xgb_tuning, 'MAPE' : mape_xgb_tuning}, index=model_xgb.keys())\n",
    "score_after_tuning_xgb"
   ]
  },
  {
   "cell_type": "markdown",
   "id": "21479ac0",
   "metadata": {},
   "source": [
    "**Performance Comparison**"
   ]
  },
  {
   "cell_type": "markdown",
   "id": "1d78de72",
   "metadata": {},
   "source": [
    "Perbandingan performa model XGBoost sebelum dan sesudah dilakukan hyperparameter tuning."
   ]
  },
  {
   "cell_type": "code",
   "execution_count": 258,
   "id": "4563a6d4",
   "metadata": {
    "scrolled": true
   },
   "outputs": [
    {
     "name": "stdout",
     "output_type": "stream",
     "text": [
      "BEFORE TUNING:\n"
     ]
    },
    {
     "data": {
      "text/html": [
       "<div>\n",
       "<style scoped>\n",
       "    .dataframe tbody tr th:only-of-type {\n",
       "        vertical-align: middle;\n",
       "    }\n",
       "\n",
       "    .dataframe tbody tr th {\n",
       "        vertical-align: top;\n",
       "    }\n",
       "\n",
       "    .dataframe thead th {\n",
       "        text-align: right;\n",
       "    }\n",
       "</style>\n",
       "<table border=\"1\" class=\"dataframe\">\n",
       "  <thead>\n",
       "    <tr style=\"text-align: right;\">\n",
       "      <th></th>\n",
       "      <th>RMSE</th>\n",
       "      <th>MAE</th>\n",
       "      <th>MAPE</th>\n",
       "    </tr>\n",
       "  </thead>\n",
       "  <tbody>\n",
       "    <tr>\n",
       "      <th>XGB</th>\n",
       "      <td>45205.681161</td>\n",
       "      <td>37050.358313</td>\n",
       "      <td>0.182827</td>\n",
       "    </tr>\n",
       "  </tbody>\n",
       "</table>\n",
       "</div>"
      ],
      "text/plain": [
       "             RMSE           MAE      MAPE\n",
       "XGB  45205.681161  37050.358313  0.182827"
      ]
     },
     "metadata": {},
     "output_type": "display_data"
    },
    {
     "name": "stdout",
     "output_type": "stream",
     "text": [
      "AFTER TUNING:\n"
     ]
    },
    {
     "data": {
      "text/html": [
       "<div>\n",
       "<style scoped>\n",
       "    .dataframe tbody tr th:only-of-type {\n",
       "        vertical-align: middle;\n",
       "    }\n",
       "\n",
       "    .dataframe tbody tr th {\n",
       "        vertical-align: top;\n",
       "    }\n",
       "\n",
       "    .dataframe thead th {\n",
       "        text-align: right;\n",
       "    }\n",
       "</style>\n",
       "<table border=\"1\" class=\"dataframe\">\n",
       "  <thead>\n",
       "    <tr style=\"text-align: right;\">\n",
       "      <th></th>\n",
       "      <th>RMSE</th>\n",
       "      <th>MAE</th>\n",
       "      <th>MAPE</th>\n",
       "    </tr>\n",
       "  </thead>\n",
       "  <tbody>\n",
       "    <tr>\n",
       "      <th>XGB</th>\n",
       "      <td>44919.84972</td>\n",
       "      <td>36851.398874</td>\n",
       "      <td>0.181878</td>\n",
       "    </tr>\n",
       "  </tbody>\n",
       "</table>\n",
       "</div>"
      ],
      "text/plain": [
       "            RMSE           MAE      MAPE\n",
       "XGB  44919.84972  36851.398874  0.181878"
      ]
     },
     "metadata": {},
     "output_type": "display_data"
    }
   ],
   "source": [
    "# Sebelum dan sesudahhyperparameter tuning\n",
    "print('BEFORE TUNING:')\n",
    "display(pd.DataFrame(score_before_tuning.loc['XGB']).T)\n",
    "\n",
    "print('AFTER TUNING:')\n",
    "display(score_after_tuning_xgb)"
   ]
  },
  {
   "cell_type": "markdown",
   "id": "213f5b7b",
   "metadata": {},
   "source": [
    "Model mengalami peningkatan performa yang ditandai berkurangnya nilai dari RMSE, MAE, dan MAPE."
   ]
  },
  {
   "cell_type": "markdown",
   "id": "b1de02b0",
   "metadata": {},
   "source": [
    "**Best Model**"
   ]
  },
  {
   "cell_type": "markdown",
   "id": "4e89ed0a",
   "metadata": {},
   "source": [
    "Melakukan perbandingan terhadap kedua model setelah dilakukan hyperparameter tuning."
   ]
  },
  {
   "cell_type": "code",
   "execution_count": 259,
   "id": "34fc169a",
   "metadata": {},
   "outputs": [
    {
     "data": {
      "text/html": [
       "<div>\n",
       "<style scoped>\n",
       "    .dataframe tbody tr th:only-of-type {\n",
       "        vertical-align: middle;\n",
       "    }\n",
       "\n",
       "    .dataframe tbody tr th {\n",
       "        vertical-align: top;\n",
       "    }\n",
       "\n",
       "    .dataframe thead th {\n",
       "        text-align: right;\n",
       "    }\n",
       "</style>\n",
       "<table border=\"1\" class=\"dataframe\">\n",
       "  <thead>\n",
       "    <tr style=\"text-align: right;\">\n",
       "      <th></th>\n",
       "      <th>RMSE</th>\n",
       "      <th>MAE</th>\n",
       "      <th>MAPE</th>\n",
       "    </tr>\n",
       "  </thead>\n",
       "  <tbody>\n",
       "    <tr>\n",
       "      <th>Random Forest</th>\n",
       "      <td>45072.539143</td>\n",
       "      <td>37022.324772</td>\n",
       "      <td>0.182619</td>\n",
       "    </tr>\n",
       "  </tbody>\n",
       "</table>\n",
       "</div>"
      ],
      "text/plain": [
       "                       RMSE           MAE      MAPE\n",
       "Random Forest  45072.539143  37022.324772  0.182619"
      ]
     },
     "metadata": {},
     "output_type": "display_data"
    },
    {
     "data": {
      "text/html": [
       "<div>\n",
       "<style scoped>\n",
       "    .dataframe tbody tr th:only-of-type {\n",
       "        vertical-align: middle;\n",
       "    }\n",
       "\n",
       "    .dataframe tbody tr th {\n",
       "        vertical-align: top;\n",
       "    }\n",
       "\n",
       "    .dataframe thead th {\n",
       "        text-align: right;\n",
       "    }\n",
       "</style>\n",
       "<table border=\"1\" class=\"dataframe\">\n",
       "  <thead>\n",
       "    <tr style=\"text-align: right;\">\n",
       "      <th></th>\n",
       "      <th>RMSE</th>\n",
       "      <th>MAE</th>\n",
       "      <th>MAPE</th>\n",
       "    </tr>\n",
       "  </thead>\n",
       "  <tbody>\n",
       "    <tr>\n",
       "      <th>XGB</th>\n",
       "      <td>44919.84972</td>\n",
       "      <td>36851.398874</td>\n",
       "      <td>0.181878</td>\n",
       "    </tr>\n",
       "  </tbody>\n",
       "</table>\n",
       "</div>"
      ],
      "text/plain": [
       "            RMSE           MAE      MAPE\n",
       "XGB  44919.84972  36851.398874  0.181878"
      ]
     },
     "metadata": {},
     "output_type": "display_data"
    }
   ],
   "source": [
    "display(score_after_tuning_rf, score_after_tuning_xgb)"
   ]
  },
  {
   "cell_type": "markdown",
   "id": "5ea391bb",
   "metadata": {},
   "source": [
    "Pada hasil skor diatas, model XGBoost menghasilkan nilai yang lebih baik (semakin kecil nilai RMSE, MAE, MAPE). Model inilah yang nantinya akan digunakan untuk memprediksi harga apartemen di kota Daegu."
   ]
  },
  {
   "cell_type": "code",
   "execution_count": 260,
   "id": "96bd07ef",
   "metadata": {},
   "outputs": [
    {
     "data": {
      "image/png": "[encoded data removed]",
      "text/plain": [
       "<Figure size 1080x720 with 1 Axes>"
      ]
     },
     "metadata": {
      "needs_background": "light"
     },
     "output_type": "display_data"
    }
   ],
   "source": [
    "plt.figure(figsize=(15, 10))\n",
    "plot = sns.scatterplot(x=y_test, y=y_pred).set(title = 'Actual vs Prediction Price',\n",
    "                                              xlabel = 'Actual Price',\n",
    "                                              ylabel = 'Prediction Price')"
   ]
  },
  {
   "cell_type": "markdown",
   "id": "cfa6a00c",
   "metadata": {},
   "source": [
    "**Feature Importances**"
   ]
  },
  {
   "cell_type": "markdown",
   "id": "48999733",
   "metadata": {},
   "source": [
    "Untuk dapat mengetahui sebenarnya fitur apa saja yang sangat memengaruhi target (SalePrice), kita dapat mengeceknya melalui function feature_importances_."
   ]
  },
  {
   "cell_type": "code",
   "execution_count": 261,
   "id": "fa944cda",
   "metadata": {},
   "outputs": [
    {
     "data": {
      "text/plain": [
       "<AxesSubplot:title={'center':'Feature Importances'}>"
      ]
     },
     "execution_count": 261,
     "metadata": {},
     "output_type": "execute_result"
    },
    {
     "data": {
      "image/png": "[encoded data removed]",
      "text/plain": [
       "<Figure size 432x288 with 1 Axes>"
      ]
     },
     "metadata": {
      "needs_background": "light"
     },
     "output_type": "display_data"
    }
   ],
   "source": [
    "feature_imp = pd.Series(xgb_tuning['model'].feature_importances_, transformer.get_feature_names()).sort_values(ascending=False).head()\n",
    "feature_imp.plot(kind='barh', title='Feature Importances')"
   ]
  },
  {
   "cell_type": "markdown",
   "id": "843c0b21",
   "metadata": {},
   "source": [
    "### Conclusion"
   ]
  },
  {
   "cell_type": "markdown",
   "id": "4e00f8ec",
   "metadata": {},
   "source": [
    "Berdasarkan pemodelan yang sudah dilakukan, ternyata jumlah fasilitas lain yang terdekat, tahun berdirinya bangunan, serta luas bangunan menjadi aspek penting dalam menentukan harga sewa.\n",
    "\n",
    "Metrik evaluasi yang digunakan pada model adalah nilai RMSE, MAE & MAPE. Jika ditinjau dari nilai RMSE yang dihasilkan oleh model setelah dilakukan hyperparameter tuning, yaitu sebesar 44919.8, kita dapat menyimpulkan bahwa bila nanti model yang kita buat ini digunakan untuk memperkirakan harga listing baru di Daegu pada rentang nilai seperti yang dilatih terhadap model (maksimal harga ₩ 521901), maka perkiraan harganya rata-rata akan meleset kurang lebih sebesar ₩ 44919 dari harga yang mungkin seharusnya. Tetapi, tidak menutup kemungkinan juga prediksinya meleset lebih jauh karena bias yang dihasilkan model masih cukup tinggi bila dilihat dari visualisasi antara harga aktual dan prediksi. Bias yang dihasilkan oleh model ini dikarenakan oleh kurangnya fitur pada dataset yang bisa merepresentasikan aspek properti dan juga services."
   ]
  },
  {
   "cell_type": "markdown",
   "id": "9548b262",
   "metadata": {},
   "source": [
    "### Recommendation"
   ]
  },
  {
   "cell_type": "markdown",
   "id": "6939a0ed",
   "metadata": {},
   "source": [
    "Hal-hal yang dapat dilakukan untuk mengembangkan model agar lebih baik lagi, seperti:\n",
    "\n",
    "1. Mengecek prediksi mana saja yang memiliki nilai error yang tinggi. Kita dapat mengelompokkan error tersebut ke dalam grup overestimation dan underestimation, lalu memilih 5% error paling ekstrim saja untuk tiap grup. Nantinya pengelompokkan akan menjadi 3 grup, yaitu overestimation (5%), underestimation (5%), dan grup mayoritas yang error-nya mendekati nilai mean (90%). Setelahnya kita bisa mengecek hubungan antara error tersebut dengan tiap variabel independen. Pada akhirnya kita dapat mengetahui sebenarnya variabel mana saja dan aspek apa yang menyebabkan model menghasilkan error yang tinggi, sehingga kita bisa melakukan training ulang dengan penerapan feature engineering lainnya.\n",
    "<br><br>   \n",
    "1. Jika memungkinkan, penambahan fitur yang lebih korelatif dengan target ('SalePrice'), seperti luas kamar, ada atau tidaknya free meals, dan lain-lain. Selain itu, adanya penambahan data terkini untuk Daegu Apartment tentu akan dapat mengimprovisasi kapasitas prediksi dari model.\n",
    "<br><br>   \n",
    "3. Jika ada penambahan banyak data, dapat dicoba dengan menggunakan model yang lebih kompleks, seperti recursive neural networks (RNN). Namun, kalau jumlah data dan fiturnya masih seperti dataset ini, kemungkinan besar tidak akan mengubah hasilnya secara signifikan.\n",
    "<br><br> "
   ]
  },
  {
   "cell_type": "markdown",
   "id": "60d03448",
   "metadata": {},
   "source": [
    "****"
   ]
  },
  {
   "cell_type": "markdown",
   "id": "dab8830e",
   "metadata": {},
   "source": [
    "### Save Model"
   ]
  },
  {
   "cell_type": "code",
   "execution_count": 262,
   "id": "5a06b3d2",
   "metadata": {},
   "outputs": [],
   "source": [
    "# Save model\n",
    "# import pickle\n",
    "\n",
    "# estimator = Pipeline([('preprocessing', transformer), ('model', XGBRegressor())])\n",
    "# estimator.fit(x_train, y_train)\n",
    "\n",
    "# pickle.dump(estimator, open('Model_Daegu_XGB.sav', 'wb'))"
   ]
  },
  {
   "cell_type": "code",
   "execution_count": 263,
   "id": "83bdbfe4",
   "metadata": {},
   "outputs": [],
   "source": [
    "# Load model\n",
    "# filename = 'Model_Daegu_XGB.sav'\n",
    "# loaded_model = pickle.load(open(filename, 'rb'))"
   ]
  },
  {
   "cell_type": "code",
   "execution_count": 264,
   "id": "99405a96",
   "metadata": {},
   "outputs": [],
   "source": [
    "# np.sqrt(mean_squared_error(y_test, loaded_model.predict(x_test)))"
   ]
  }
 ],
 "metadata": {
  "kernelspec": {
   "display_name": "Python 3 (ipykernel)",
   "language": "python",
   "name": "python3"
  },
  "language_info": {
   "codemirror_mode": {
    "name": "ipython",
    "version": 3
   },
   "file_extension": ".py",
   "mimetype": "text/x-python",
   "name": "python",
   "nbconvert_exporter": "python",
   "pygments_lexer": "ipython3",
   "version": "3.9.9"
  }
 },
 "nbformat": 4,
 "nbformat_minor": 5
}
